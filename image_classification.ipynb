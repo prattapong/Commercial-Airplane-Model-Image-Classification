{
  "cells": [
    {
      "cell_type": "markdown",
      "source": [
        "# 1. Import Libraries"
      ],
      "metadata": {
        "id": "yRB3VQ32HLoB"
      }
    },
    {
      "cell_type": "code",
      "source": [
        "import os\n",
        "os.environ[\"TF_CPP_MIN_LOG_LEVEL\"] = \"3\"\n",
        "\n",
        "import requests\n",
        "from io import BytesIO\n",
        "import numpy as np\n",
        "import pandas as pd\n",
        "from tqdm import tqdm\n",
        "from PIL import Image\n",
        "import tensorflow as tf\n",
        "from tensorflow.keras.applications import ResNet50, EfficientNetB3, DenseNet169, Xception, ConvNeXtBase\n",
        "from tensorflow.keras.applications.vgg16 import VGG16\n",
        "from tensorflow.keras.models import Model\n",
        "from tensorflow.keras.utils import get_custom_objects\n",
        "from tensorflow.keras.layers import Dense, GlobalAveragePooling2D, Dropout, Input\n",
        "from tensorflow.keras.optimizers import Adam\n",
        "from tensorflow.keras.preprocessing.image import ImageDataGenerator\n",
        "from tensorflow.keras.callbacks import ModelCheckpoint\n",
        "from sklearn.model_selection import train_test_split\n",
        "import matplotlib.pyplot as plt\n",
        "import warnings\n",
        "\n",
        "warnings.filterwarnings(\"ignore\")\n",
        "\n",
        "SEED = 244\n",
        "np.random.seed(SEED)\n",
        "tf.random.set_seed(SEED)"
      ],
      "metadata": {
        "id": "wH7LAkk3HPYj"
      },
      "execution_count": 1,
      "outputs": []
    },
    {
      "cell_type": "markdown",
      "source": [
        "# 2. Load Dataset"
      ],
      "metadata": {
        "id": "GGvsAt4fHSOS"
      }
    },
    {
      "cell_type": "markdown",
      "source": [
        "### 2.1 Define GitHub Repo & Folder Path"
      ],
      "metadata": {
        "id": "kfQwJ27THqM4"
      }
    },
    {
      "cell_type": "code",
      "source": [
        "GITHUB_REPO = \"prattapong/Commercial-Airplane-Model-Image-Classification\"\n",
        "GITHUB_FOLDER = \"images\"\n",
        "GITHUB_API_URL = f\"https://api.github.com/repos/{GITHUB_REPO}/contents/{GITHUB_FOLDER}\""
      ],
      "metadata": {
        "id": "glwG9gyqHW_H"
      },
      "execution_count": 2,
      "outputs": []
    },
    {
      "cell_type": "markdown",
      "source": [
        "### 2.2 Fetch Image URLs and Load Image"
      ],
      "metadata": {
        "id": "8n61Mj3zHzKc"
      }
    },
    {
      "cell_type": "code",
      "source": [
        "# Fetch Image URLs Automatically\n",
        "def get_image_urls():\n",
        "    response = requests.get(GITHUB_API_URL)\n",
        "    if response.status_code != 200:\n",
        "        raise Exception(f\"Error fetching images: {response.json()}\")\n",
        "\n",
        "    image_urls = {}\n",
        "    for folder in response.json():\n",
        "        if folder[\"type\"] == \"dir\":  # Ensure it's a folder (A350, B787, A320)\n",
        "            class_name = folder[\"name\"]\n",
        "            image_urls[class_name] = []\n",
        "            folder_url = folder[\"url\"]\n",
        "\n",
        "            # Fetch image files in each class folder\n",
        "            folder_response = requests.get(folder_url)\n",
        "            if folder_response.status_code == 200:\n",
        "                for file in folder_response.json():\n",
        "                    if file[\"name\"].lower().endswith((\".jpg\", \".jpeg\", \".png\")):\n",
        "                        image_urls[class_name].append(file[\"download_url\"])\n",
        "\n",
        "    return image_urls\n",
        "\n",
        "# Load Images Using Image.open()\n",
        "def load_images(image_urls):\n",
        "    IMG_SIZE = (224, 224)  # Resize all images to 224x224\n",
        "    X, y = [], []\n",
        "\n",
        "    total_images = sum(len(urls) for urls in image_urls.values())  # Total number of images\n",
        "    progress_bar = tqdm(total=total_images, desc=\"Loading Images\", unit=\"img\")\n",
        "\n",
        "    for label, urls in image_urls.items():\n",
        "        for url in urls:\n",
        "            try:\n",
        "                response = requests.get(url)\n",
        "                img = Image.open(BytesIO(response.content)).convert(\"RGB\")  # Load image\n",
        "                img = img.resize(IMG_SIZE)\n",
        "                X.append(np.array(img) / 255.0)  # Normalize\n",
        "                y.append(label)\n",
        "            except Exception as e:\n",
        "                print(f\"Error loading {url}: {e}\")\n",
        "            progress_bar.update(1)  # Update progress bar\n",
        "\n",
        "    progress_bar.close()\n",
        "    return np.array(X), pd.Categorical(y).codes"
      ],
      "metadata": {
        "id": "AVWh-JyZH8i9"
      },
      "execution_count": 3,
      "outputs": []
    },
    {
      "cell_type": "code",
      "source": [
        "image_urls = get_image_urls()\n",
        "X, y = load_images(image_urls)"
      ],
      "metadata": {
        "colab": {
          "base_uri": "https://localhost:8080/"
        },
        "id": "t_vXZtrXlX6e",
        "outputId": "e32a2d8e-7cd4-4aac-dc6f-781637bef173"
      },
      "execution_count": null,
      "outputs": [
        {
          "output_type": "stream",
          "name": "stderr",
          "text": [
            "Loading Images:   1%|          | 6/605 [00:00<00:44, 13.33img/s]"
          ]
        },
        {
          "output_type": "stream",
          "name": "stdout",
          "text": [
            "Error loading https://raw.githubusercontent.com/prattapong/Commercial-Airplane-Model-Image-Classification/main/images/Airbus%20A320/1.jpg: cannot identify image file <_io.BytesIO object at 0x7fedf99c93f0>\n"
          ]
        },
        {
          "output_type": "stream",
          "name": "stderr",
          "text": [
            "Loading Images:   3%|▎         | 18/605 [00:01<00:49, 11.80img/s]"
          ]
        },
        {
          "output_type": "stream",
          "name": "stdout",
          "text": [
            "Error loading https://raw.githubusercontent.com/prattapong/Commercial-Airplane-Model-Image-Classification/main/images/Airbus%20A320/1180206_1719464150.jpg: cannot identify image file <_io.BytesIO object at 0x7fee25a2ed90>\n"
          ]
        },
        {
          "output_type": "stream",
          "name": "stderr",
          "text": [
            "\rLoading Images:   3%|▎         | 20/605 [00:02<00:58,  9.96img/s]"
          ]
        },
        {
          "output_type": "stream",
          "name": "stdout",
          "text": [
            "Error loading https://raw.githubusercontent.com/prattapong/Commercial-Airplane-Model-Image-Classification/main/images/Airbus%20A320/1222400_1716077814.jpg: cannot identify image file <_io.BytesIO object at 0x7fee25a2ed90>\n",
            "Error loading https://raw.githubusercontent.com/prattapong/Commercial-Airplane-Model-Image-Classification/main/images/Airbus%20A320/1225639_1723711629.jpg: cannot identify image file <_io.BytesIO object at 0x7fedf99f93f0>\n"
          ]
        },
        {
          "output_type": "stream",
          "name": "stderr",
          "text": [
            "Loading Images:   6%|▌         | 36/605 [00:04<01:04,  8.87img/s]"
          ]
        },
        {
          "output_type": "stream",
          "name": "stdout",
          "text": [
            "Error loading https://raw.githubusercontent.com/prattapong/Commercial-Airplane-Model-Image-Classification/main/images/Airbus%20A320/1482704_1740225002.jpg: cannot identify image file <_io.BytesIO object at 0x7fee25a2ed90>\n",
            "Error loading https://raw.githubusercontent.com/prattapong/Commercial-Airplane-Model-Image-Classification/main/images/Airbus%20A320/1581678_1726675039.jpg: cannot identify image file <_io.BytesIO object at 0x7fee25a2e020>\n",
            "Error loading https://raw.githubusercontent.com/prattapong/Commercial-Airplane-Model-Image-Classification/main/images/Airbus%20A320/16.jpg: cannot identify image file <_io.BytesIO object at 0x7fedf90db9c0>\n"
          ]
        },
        {
          "output_type": "stream",
          "name": "stderr",
          "text": [
            "Loading Images:   9%|▉         | 56/605 [00:06<00:54, 10.13img/s]"
          ]
        },
        {
          "output_type": "stream",
          "name": "stdout",
          "text": [
            "Error loading https://raw.githubusercontent.com/prattapong/Commercial-Airplane-Model-Image-Classification/main/images/Airbus%20A320/22476_1512927913.jpg: cannot identify image file <_io.BytesIO object at 0x7fedf9a90db0>\n"
          ]
        },
        {
          "output_type": "stream",
          "name": "stderr",
          "text": [
            "Loading Images:  10%|█         | 62/605 [00:07<00:47, 11.49img/s]"
          ]
        },
        {
          "output_type": "stream",
          "name": "stdout",
          "text": [
            "Error loading https://raw.githubusercontent.com/prattapong/Commercial-Airplane-Model-Image-Classification/main/images/Airbus%20A320/24818_1458607199.jpg: cannot identify image file <_io.BytesIO object at 0x7fedf99f93f0>\n"
          ]
        },
        {
          "output_type": "stream",
          "name": "stderr",
          "text": [
            "Loading Images:  12%|█▏        | 70/605 [00:07<00:41, 12.80img/s]"
          ]
        },
        {
          "output_type": "stream",
          "name": "stdout",
          "text": [
            "Error loading https://raw.githubusercontent.com/prattapong/Commercial-Airplane-Model-Image-Classification/main/images/Airbus%20A320/29.jpg: cannot identify image file <_io.BytesIO object at 0x7fedf99f4f40>\n",
            "Error loading https://raw.githubusercontent.com/prattapong/Commercial-Airplane-Model-Image-Classification/main/images/Airbus%20A320/3%20(1).jpg: cannot identify image file <_io.BytesIO object at 0x7fedf99c96c0>\n"
          ]
        },
        {
          "output_type": "stream",
          "name": "stderr",
          "text": [
            "Loading Images:  13%|█▎        | 80/605 [00:08<00:33, 15.51img/s]"
          ]
        },
        {
          "output_type": "stream",
          "name": "stdout",
          "text": [
            "Error loading https://raw.githubusercontent.com/prattapong/Commercial-Airplane-Model-Image-Classification/main/images/Airbus%20A320/35754_1578218056.jpg: cannot identify image file <_io.BytesIO object at 0x7fedf99c96c0>\n",
            "Error loading https://raw.githubusercontent.com/prattapong/Commercial-Airplane-Model-Image-Classification/main/images/Airbus%20A320/36.jpg: cannot identify image file <_io.BytesIO object at 0x7feea5abda80>\n"
          ]
        },
        {
          "output_type": "stream",
          "name": "stderr",
          "text": [
            "Loading Images:  14%|█▍        | 85/605 [00:08<00:30, 17.02img/s]"
          ]
        },
        {
          "output_type": "stream",
          "name": "stdout",
          "text": [
            "Error loading https://raw.githubusercontent.com/prattapong/Commercial-Airplane-Model-Image-Classification/main/images/Airbus%20A320/395220_1739773383.jpg: cannot identify image file <_io.BytesIO object at 0x7fedf9a27d30>\n"
          ]
        },
        {
          "output_type": "stream",
          "name": "stderr",
          "text": [
            "Loading Images:  15%|█▌        | 92/605 [00:09<00:38, 13.18img/s]"
          ]
        },
        {
          "output_type": "stream",
          "name": "stdout",
          "text": [
            "Error loading https://raw.githubusercontent.com/prattapong/Commercial-Airplane-Model-Image-Classification/main/images/Airbus%20A320/41880_1615780346.jpg: cannot identify image file <_io.BytesIO object at 0x7fee25a2e660>\n"
          ]
        },
        {
          "output_type": "stream",
          "name": "stderr",
          "text": [
            "Loading Images:  17%|█▋        | 100/605 [00:10<00:56,  8.93img/s]"
          ]
        },
        {
          "output_type": "stream",
          "name": "stdout",
          "text": [
            "Error loading https://raw.githubusercontent.com/prattapong/Commercial-Airplane-Model-Image-Classification/main/images/Airbus%20A320/46406_1444328830.jpg: (\"Connection broken: InvalidChunkLength(got length b'\\\\r\\\\n', 0 bytes read)\", InvalidChunkLength(got length b'\\r\\n', 0 bytes read))\n"
          ]
        },
        {
          "output_type": "stream",
          "name": "stderr",
          "text": [
            "Loading Images:  17%|█▋        | 104/605 [00:10<00:52,  9.60img/s]"
          ]
        },
        {
          "output_type": "stream",
          "name": "stdout",
          "text": [
            "Error loading https://raw.githubusercontent.com/prattapong/Commercial-Airplane-Model-Image-Classification/main/images/Airbus%20A320/50653_1609620910.jpg: cannot identify image file <_io.BytesIO object at 0x7fedf9a27d30>\n"
          ]
        },
        {
          "output_type": "stream",
          "name": "stderr",
          "text": [
            "Loading Images:  18%|█▊        | 111/605 [00:11<00:42, 11.55img/s]"
          ]
        },
        {
          "output_type": "stream",
          "name": "stdout",
          "text": [
            "Error loading https://raw.githubusercontent.com/prattapong/Commercial-Airplane-Model-Image-Classification/main/images/Airbus%20A320/52662_1428987036.jpg: cannot identify image file <_io.BytesIO object at 0x7feea5abda80>\n"
          ]
        },
        {
          "output_type": "stream",
          "name": "stderr",
          "text": [
            "Loading Images:  20%|█▉        | 119/605 [00:12<00:42, 11.51img/s]"
          ]
        },
        {
          "output_type": "stream",
          "name": "stdout",
          "text": [
            "Error loading https://raw.githubusercontent.com/prattapong/Commercial-Airplane-Model-Image-Classification/main/images/Airbus%20A320/57000_1627932128.jpg: cannot identify image file <_io.BytesIO object at 0x7fedf99c96c0>\n",
            "Error loading https://raw.githubusercontent.com/prattapong/Commercial-Airplane-Model-Image-Classification/main/images/Airbus%20A320/570494_1731617053.jpg: cannot identify image file <_io.BytesIO object at 0x7fedf9a900e0>\n"
          ]
        },
        {
          "output_type": "stream",
          "name": "stderr",
          "text": [
            "Loading Images:  20%|██        | 124/605 [00:12<00:31, 15.04img/s]"
          ]
        },
        {
          "output_type": "stream",
          "name": "stdout",
          "text": [
            "Error loading https://raw.githubusercontent.com/prattapong/Commercial-Airplane-Model-Image-Classification/main/images/Airbus%20A320/607565_1718656853.jpg: cannot identify image file <_io.BytesIO object at 0x7feea5abda80>\n"
          ]
        },
        {
          "output_type": "stream",
          "name": "stderr",
          "text": [
            "Loading Images:  21%|██        | 128/605 [00:12<00:36, 12.92img/s]"
          ]
        },
        {
          "output_type": "stream",
          "name": "stdout",
          "text": [
            "Error loading https://raw.githubusercontent.com/prattapong/Commercial-Airplane-Model-Image-Classification/main/images/Airbus%20A320/630871_1729514418.jpg: cannot identify image file <_io.BytesIO object at 0x7fedf90dbfb0>\n"
          ]
        },
        {
          "output_type": "stream",
          "name": "stderr",
          "text": [
            "Loading Images:  22%|██▏       | 132/605 [00:13<00:41, 11.32img/s]"
          ]
        },
        {
          "output_type": "stream",
          "name": "stdout",
          "text": [
            "Error loading https://raw.githubusercontent.com/prattapong/Commercial-Airplane-Model-Image-Classification/main/images/Airbus%20A320/640509_1735244386.jpg: cannot identify image file <_io.BytesIO object at 0x7fedf9ed4d10>\n"
          ]
        },
        {
          "output_type": "stream",
          "name": "stderr",
          "text": [
            "Loading Images:  22%|██▏       | 136/605 [00:14<01:05,  7.13img/s]"
          ]
        },
        {
          "output_type": "stream",
          "name": "stdout",
          "text": [
            "Error loading https://raw.githubusercontent.com/prattapong/Commercial-Airplane-Model-Image-Classification/main/images/Airbus%20A320/666984_1707999495.jpg: cannot identify image file <_io.BytesIO object at 0x7fedf9ed4d10>\n"
          ]
        },
        {
          "output_type": "stream",
          "name": "stderr",
          "text": [
            "Loading Images:  24%|██▍       | 145/605 [00:14<00:40, 11.48img/s]"
          ]
        },
        {
          "output_type": "stream",
          "name": "stdout",
          "text": [
            "Error loading https://raw.githubusercontent.com/prattapong/Commercial-Airplane-Model-Image-Classification/main/images/Airbus%20A320/69338_1543242234.jpg: cannot identify image file <_io.BytesIO object at 0x7fee25a3c130>\n",
            "Error loading https://raw.githubusercontent.com/prattapong/Commercial-Airplane-Model-Image-Classification/main/images/Airbus%20A320/711272_1741461496.jpg: cannot identify image file <_io.BytesIO object at 0x7feea5abda80>\n"
          ]
        },
        {
          "output_type": "stream",
          "name": "stderr",
          "text": [
            "Loading Images:  25%|██▍       | 151/605 [00:15<00:49,  9.18img/s]"
          ]
        },
        {
          "output_type": "stream",
          "name": "stdout",
          "text": [
            "Error loading https://raw.githubusercontent.com/prattapong/Commercial-Airplane-Model-Image-Classification/main/images/Airbus%20A320/72504_1600715752.jpg: cannot identify image file <_io.BytesIO object at 0x7feea5abda80>\n"
          ]
        },
        {
          "output_type": "stream",
          "name": "stderr",
          "text": [
            "Loading Images:  26%|██▋       | 160/605 [00:16<00:51,  8.56img/s]"
          ]
        },
        {
          "output_type": "stream",
          "name": "stdout",
          "text": [
            "Error loading https://raw.githubusercontent.com/prattapong/Commercial-Airplane-Model-Image-Classification/main/images/Airbus%20A320/789548_1728475829.jpg: cannot identify image file <_io.BytesIO object at 0x7fedf9062d90>\n",
            "Error loading https://raw.githubusercontent.com/prattapong/Commercial-Airplane-Model-Image-Classification/main/images/Airbus%20A320/797183_1741273762.jpg: cannot identify image file <_io.BytesIO object at 0x7fedf90db240>\n"
          ]
        },
        {
          "output_type": "stream",
          "name": "stderr",
          "text": [
            "Loading Images:  28%|██▊       | 168/605 [00:18<00:58,  7.45img/s]"
          ]
        },
        {
          "output_type": "stream",
          "name": "stdout",
          "text": [
            "Error loading https://raw.githubusercontent.com/prattapong/Commercial-Airplane-Model-Image-Classification/main/images/Airbus%20A320/81878_1635342531.jpg: cannot identify image file <_io.BytesIO object at 0x7fee25a2e660>\n"
          ]
        },
        {
          "output_type": "stream",
          "name": "stderr",
          "text": [
            "Loading Images:  28%|██▊       | 172/605 [00:18<00:57,  7.51img/s]"
          ]
        },
        {
          "output_type": "stream",
          "name": "stdout",
          "text": [
            "Error loading https://raw.githubusercontent.com/prattapong/Commercial-Airplane-Model-Image-Classification/main/images/Airbus%20A320/83187_1653830047.jpg: cannot identify image file <_io.BytesIO object at 0x7fedf99c98a0>\n"
          ]
        },
        {
          "output_type": "stream",
          "name": "stderr",
          "text": [
            "Loading Images:  31%|███       | 186/605 [00:20<00:43,  9.58img/s]"
          ]
        },
        {
          "output_type": "stream",
          "name": "stdout",
          "text": [
            "Error loading https://raw.githubusercontent.com/prattapong/Commercial-Airplane-Model-Image-Classification/main/images/Airbus%20A320/947412_1712705566.jpg: cannot identify image file <_io.BytesIO object at 0x7fedf9a27d30>\n"
          ]
        },
        {
          "output_type": "stream",
          "name": "stderr",
          "text": [
            "\rLoading Images:  31%|███       | 188/605 [00:20<00:36, 11.35img/s]"
          ]
        },
        {
          "output_type": "stream",
          "name": "stdout",
          "text": [
            "Error loading https://raw.githubusercontent.com/prattapong/Commercial-Airplane-Model-Image-Classification/main/images/Airbus%20A320/965860_1738943319.jpg: cannot identify image file <_io.BytesIO object at 0x7fedf9062d90>\n"
          ]
        },
        {
          "output_type": "stream",
          "name": "stderr",
          "text": [
            "Loading Images:  32%|███▏      | 196/605 [00:21<00:43,  9.31img/s]"
          ]
        },
        {
          "output_type": "stream",
          "name": "stdout",
          "text": [
            "Error loading https://raw.githubusercontent.com/prattapong/Commercial-Airplane-Model-Image-Classification/main/images/Airbus%20A320/A320_3.jpg: cannot identify image file <_io.BytesIO object at 0x7fedf9a27d30>\n",
            "Error loading https://raw.githubusercontent.com/prattapong/Commercial-Airplane-Model-Image-Classification/main/images/Airbus%20A320/Airbus_A320-211%2C_Air_France_JP6620347.jpg: cannot identify image file <_io.BytesIO object at 0x7fedf9e99580>\n"
          ]
        },
        {
          "output_type": "stream",
          "name": "stderr",
          "text": [
            "Loading Images:  34%|███▍      | 206/605 [00:22<00:29, 13.67img/s]"
          ]
        },
        {
          "output_type": "stream",
          "name": "stdout",
          "text": [
            "Error loading https://raw.githubusercontent.com/prattapong/Commercial-Airplane-Model-Image-Classification/main/images/Airbus%20A320/Avianca_Airbus_A320-214_(N536AV)_at_Miami_International_Airport.jpg: cannot identify image file <_io.BytesIO object at 0x7fedf9e99580>\n"
          ]
        },
        {
          "output_type": "stream",
          "name": "stderr",
          "text": [
            "\rLoading Images:  34%|███▍      | 208/605 [00:22<00:35, 11.15img/s]"
          ]
        },
        {
          "output_type": "stream",
          "name": "stdout",
          "text": [
            "Error loading https://raw.githubusercontent.com/prattapong/Commercial-Airplane-Model-Image-Classification/main/images/Airbus%20A320/Finnair_A320-214_(OH-LXK)_landing_at_London_Heathrow_Airport.jpg: cannot identify image file <_io.BytesIO object at 0x7feea5abda80>\n"
          ]
        },
        {
          "output_type": "stream",
          "name": "stderr",
          "text": [
            "Loading Images:  36%|███▌      | 216/605 [00:23<00:45,  8.52img/s]"
          ]
        },
        {
          "output_type": "stream",
          "name": "stdout",
          "text": [
            "Error loading https://raw.githubusercontent.com/prattapong/Commercial-Airplane-Model-Image-Classification/main/images/Airbus%20A320/rp-c8610-philippine-airlines-airbus-a320-214_PlanespottersNet_1401538_b49.jpg: cannot identify image file <_io.BytesIO object at 0x7fedf9ea9d50>\n",
            "Error loading https://raw.githubusercontent.com/prattapong/Commercial-Airplane-Model-Image-Classification/main/images/Airbus%20A350/1%20(1).jpg: cannot identify image file <_io.BytesIO object at 0x7fedf9e99580>\n"
          ]
        },
        {
          "output_type": "stream",
          "name": "stderr",
          "text": [
            "Loading Images:  37%|███▋      | 225/605 [00:24<00:51,  7.38img/s]"
          ]
        },
        {
          "output_type": "stream",
          "name": "stdout",
          "text": [
            "Error loading https://raw.githubusercontent.com/prattapong/Commercial-Airplane-Model-Image-Classification/main/images/Airbus%20A350/1082029_1732426309.jpg: cannot identify image file <_io.BytesIO object at 0x7fee25a2e070>\n"
          ]
        },
        {
          "output_type": "stream",
          "name": "stderr",
          "text": [
            "Loading Images:  38%|███▊      | 228/605 [00:25<00:40,  9.42img/s]"
          ]
        },
        {
          "output_type": "stream",
          "name": "stdout",
          "text": [
            "Error loading https://raw.githubusercontent.com/prattapong/Commercial-Airplane-Model-Image-Classification/main/images/Airbus%20A350/11.jpg: cannot identify image file <_io.BytesIO object at 0x7fedf9ea9d50>\n",
            "Error loading https://raw.githubusercontent.com/prattapong/Commercial-Airplane-Model-Image-Classification/main/images/Airbus%20A350/1106314_1720067000.jpg: cannot identify image file <_io.BytesIO object at 0x7fedf9ed4d10>\n"
          ]
        },
        {
          "output_type": "stream",
          "name": "stderr",
          "text": [
            "\rLoading Images:  38%|███▊      | 230/605 [00:25<00:44,  8.46img/s]"
          ]
        },
        {
          "output_type": "stream",
          "name": "stdout",
          "text": [
            "Error loading https://raw.githubusercontent.com/prattapong/Commercial-Airplane-Model-Image-Classification/main/images/Airbus%20A350/11088_1583423043.jpg: cannot identify image file <_io.BytesIO object at 0x7fedf9ef0f90>\n",
            "Error loading https://raw.githubusercontent.com/prattapong/Commercial-Airplane-Model-Image-Classification/main/images/Airbus%20A350/1160835_1740361889.jpg: cannot identify image file <_io.BytesIO object at 0x7fedf9ea9d50>\n"
          ]
        },
        {
          "output_type": "stream",
          "name": "stderr",
          "text": [
            "\rLoading Images:  38%|███▊      | 232/605 [00:25<00:41,  9.07img/s]"
          ]
        },
        {
          "output_type": "stream",
          "name": "stdout",
          "text": [
            "Error loading https://raw.githubusercontent.com/prattapong/Commercial-Airplane-Model-Image-Classification/main/images/Airbus%20A350/1172274_1707071696.jpg: cannot identify image file <_io.BytesIO object at 0x7fedf99f93f0>\n"
          ]
        },
        {
          "output_type": "stream",
          "name": "stderr",
          "text": [
            "Loading Images:  39%|███▉      | 237/605 [00:26<00:38,  9.44img/s]"
          ]
        },
        {
          "output_type": "stream",
          "name": "stdout",
          "text": [
            "Error loading https://raw.githubusercontent.com/prattapong/Commercial-Airplane-Model-Image-Classification/main/images/Airbus%20A350/12.jpg: cannot identify image file <_io.BytesIO object at 0x7fedf9ed4d10>\n",
            "Error loading https://raw.githubusercontent.com/prattapong/Commercial-Airplane-Model-Image-Classification/main/images/Airbus%20A350/1239094_1729802847.jpg: cannot identify image file <_io.BytesIO object at 0x7fedf9ea9d50>\n"
          ]
        },
        {
          "output_type": "stream",
          "name": "stderr",
          "text": [
            "Loading Images:  41%|████      | 248/605 [00:28<00:58,  6.05img/s]"
          ]
        },
        {
          "output_type": "stream",
          "name": "stdout",
          "text": [
            "Error loading https://raw.githubusercontent.com/prattapong/Commercial-Airplane-Model-Image-Classification/main/images/Airbus%20A350/1410224_1680258614.jpg: cannot identify image file <_io.BytesIO object at 0x7fedf9ed4d10>\n"
          ]
        },
        {
          "output_type": "stream",
          "name": "stderr",
          "text": [
            "\rLoading Images:  41%|████▏     | 250/605 [00:28<00:54,  6.48img/s]"
          ]
        },
        {
          "output_type": "stream",
          "name": "stdout",
          "text": [
            "Error loading https://raw.githubusercontent.com/prattapong/Commercial-Airplane-Model-Image-Classification/main/images/Airbus%20A350/1457089_1737281307.jpg: cannot identify image file <_io.BytesIO object at 0x7fee25a2ed90>\n"
          ]
        },
        {
          "output_type": "stream",
          "name": "stderr",
          "text": [
            "Loading Images:  42%|████▏     | 255/605 [00:29<01:17,  4.53img/s]"
          ]
        },
        {
          "output_type": "stream",
          "name": "stdout",
          "text": [
            "Error loading https://raw.githubusercontent.com/prattapong/Commercial-Airplane-Model-Image-Classification/main/images/Airbus%20A350/1681279_1740062075.jpg: cannot identify image file <_io.BytesIO object at 0x7fedf9ed4d10>\n"
          ]
        },
        {
          "output_type": "stream",
          "name": "stderr",
          "text": [
            "Loading Images:  43%|████▎     | 260/605 [00:30<01:05,  5.29img/s]"
          ]
        },
        {
          "output_type": "stream",
          "name": "stdout",
          "text": [
            "Error loading https://raw.githubusercontent.com/prattapong/Commercial-Airplane-Model-Image-Classification/main/images/Airbus%20A350/1761408_1738470793.jpg: cannot identify image file <_io.BytesIO object at 0x7fedf9e99580>\n"
          ]
        },
        {
          "output_type": "stream",
          "name": "stderr",
          "text": [
            "Loading Images:  44%|████▍     | 266/605 [00:32<01:16,  4.44img/s]"
          ]
        },
        {
          "output_type": "stream",
          "name": "stdout",
          "text": [
            "Error loading https://raw.githubusercontent.com/prattapong/Commercial-Airplane-Model-Image-Classification/main/images/Airbus%20A350/19.jpg: cannot identify image file <_io.BytesIO object at 0x7fedfa8502c0>\n"
          ]
        },
        {
          "output_type": "stream",
          "name": "stderr",
          "text": [
            "Loading Images:  45%|████▍     | 270/605 [00:32<00:55,  6.05img/s]"
          ]
        },
        {
          "output_type": "stream",
          "name": "stdout",
          "text": [
            "Error loading https://raw.githubusercontent.com/prattapong/Commercial-Airplane-Model-Image-Classification/main/images/Airbus%20A350/1920_csm_Lufthansa_Airbus_350_8da926d26c-833496.jpg: cannot identify image file <_io.BytesIO object at 0x7fedf9e99580>\n"
          ]
        },
        {
          "output_type": "stream",
          "name": "stderr",
          "text": [
            "Loading Images:  45%|████▌     | 274/605 [00:33<00:46,  7.16img/s]"
          ]
        },
        {
          "output_type": "stream",
          "name": "stdout",
          "text": [
            "Error loading https://raw.githubusercontent.com/prattapong/Commercial-Airplane-Model-Image-Classification/main/images/Airbus%20A350/2.jpg: cannot identify image file <_io.BytesIO object at 0x7fedf9e99580>\n"
          ]
        },
        {
          "output_type": "stream",
          "name": "stderr",
          "text": [
            "Loading Images:  46%|████▌     | 277/605 [00:33<00:42,  7.78img/s]"
          ]
        },
        {
          "output_type": "stream",
          "name": "stdout",
          "text": [
            "Error loading https://raw.githubusercontent.com/prattapong/Commercial-Airplane-Model-Image-Classification/main/images/Airbus%20A350/2032099_1733762972.jpg: cannot identify image file <_io.BytesIO object at 0x7fedfa8502c0>\n"
          ]
        },
        {
          "output_type": "stream",
          "name": "stderr",
          "text": [
            "\rLoading Images:  46%|████▌     | 279/605 [00:33<00:41,  7.94img/s]"
          ]
        },
        {
          "output_type": "stream",
          "name": "stdout",
          "text": [
            "Error loading https://raw.githubusercontent.com/prattapong/Commercial-Airplane-Model-Image-Classification/main/images/Airbus%20A350/2134082_1735375370.jpg: cannot identify image file <_io.BytesIO object at 0x7fedf9062d90>\n"
          ]
        },
        {
          "output_type": "stream",
          "name": "stderr",
          "text": [
            "\rLoading Images:  47%|████▋     | 282/605 [00:34<00:30, 10.58img/s]"
          ]
        },
        {
          "output_type": "stream",
          "name": "stdout",
          "text": [
            "Error loading https://raw.githubusercontent.com/prattapong/Commercial-Airplane-Model-Image-Classification/main/images/Airbus%20A350/22410_1530017575.jpg: cannot identify image file <_io.BytesIO object at 0x7fedfa3e6c50>\n",
            "Error loading https://raw.githubusercontent.com/prattapong/Commercial-Airplane-Model-Image-Classification/main/images/Airbus%20A350/23609_1661443904.jpg: cannot identify image file <_io.BytesIO object at 0x7fedfa8502c0>\n"
          ]
        },
        {
          "output_type": "stream",
          "name": "stderr",
          "text": [
            "Loading Images:  47%|████▋     | 287/605 [00:34<00:24, 12.77img/s]"
          ]
        },
        {
          "output_type": "stream",
          "name": "stdout",
          "text": [
            "Error loading https://raw.githubusercontent.com/prattapong/Commercial-Airplane-Model-Image-Classification/main/images/Airbus%20A350/24.jpg: cannot identify image file <_io.BytesIO object at 0x7fedfa8502c0>\n",
            "Error loading https://raw.githubusercontent.com/prattapong/Commercial-Airplane-Model-Image-Classification/main/images/Airbus%20A350/25.jpg: cannot identify image file <_io.BytesIO object at 0x7fee25a3c130>\n",
            "Error loading https://raw.githubusercontent.com/prattapong/Commercial-Airplane-Model-Image-Classification/main/images/Airbus%20A350/27.jpg: cannot identify image file <_io.BytesIO object at 0x7fedf9e99580>\n"
          ]
        },
        {
          "output_type": "stream",
          "name": "stderr",
          "text": [
            "\rLoading Images:  48%|████▊     | 289/605 [00:34<00:23, 13.51img/s]"
          ]
        },
        {
          "output_type": "stream",
          "name": "stdout",
          "text": [
            "Error loading https://raw.githubusercontent.com/prattapong/Commercial-Airplane-Model-Image-Classification/main/images/Airbus%20A350/28.jpg: cannot identify image file <_io.BytesIO object at 0x7fedfa8502c0>\n"
          ]
        },
        {
          "output_type": "stream",
          "name": "stderr",
          "text": [
            "Loading Images:  50%|████▉     | 300/605 [00:36<00:39,  7.79img/s]"
          ]
        },
        {
          "output_type": "stream",
          "name": "stdout",
          "text": [
            "Error loading https://raw.githubusercontent.com/prattapong/Commercial-Airplane-Model-Image-Classification/main/images/Airbus%20A350/33.jpg: cannot identify image file <_io.BytesIO object at 0x7fee25a3c130>\n"
          ]
        },
        {
          "output_type": "stream",
          "name": "stderr",
          "text": [
            "Loading Images:  50%|█████     | 305/605 [00:36<00:24, 12.13img/s]"
          ]
        },
        {
          "output_type": "stream",
          "name": "stdout",
          "text": [
            "Error loading https://raw.githubusercontent.com/prattapong/Commercial-Airplane-Model-Image-Classification/main/images/Airbus%20A350/35819_1673150280.jpg: cannot identify image file <_io.BytesIO object at 0x7fedf9e99580>\n",
            "Error loading https://raw.githubusercontent.com/prattapong/Commercial-Airplane-Model-Image-Classification/main/images/Airbus%20A350/37.jpg: cannot identify image file <_io.BytesIO object at 0x7fedf9a27c90>\n",
            "Error loading https://raw.githubusercontent.com/prattapong/Commercial-Airplane-Model-Image-Classification/main/images/Airbus%20A350/371226_1736490479.jpg: cannot identify image file <_io.BytesIO object at 0x7fee25a3c130>\n"
          ]
        },
        {
          "output_type": "stream",
          "name": "stderr",
          "text": [
            "Loading Images:  52%|█████▏    | 312/605 [00:36<00:20, 14.61img/s]"
          ]
        },
        {
          "output_type": "stream",
          "name": "stdout",
          "text": [
            "Error loading https://raw.githubusercontent.com/prattapong/Commercial-Airplane-Model-Image-Classification/main/images/Airbus%20A350/4.jpg: cannot identify image file <_io.BytesIO object at 0x7fedf9a27c90>\n",
            "Error loading https://raw.githubusercontent.com/prattapong/Commercial-Airplane-Model-Image-Classification/main/images/Airbus%20A350/40.jpg: cannot identify image file <_io.BytesIO object at 0x7feea5abda80>\n"
          ]
        },
        {
          "output_type": "stream",
          "name": "stderr",
          "text": [
            "Loading Images:  53%|█████▎    | 320/605 [00:37<00:25, 11.00img/s]"
          ]
        },
        {
          "output_type": "stream",
          "name": "stdout",
          "text": [
            "Error loading https://raw.githubusercontent.com/prattapong/Commercial-Airplane-Model-Image-Classification/main/images/Airbus%20A350/462070_1700428646.jpg: cannot identify image file <_io.BytesIO object at 0x7fee25a2e070>\n",
            "Error loading https://raw.githubusercontent.com/prattapong/Commercial-Airplane-Model-Image-Classification/main/images/Airbus%20A350/493763_1726247101.jpg: cannot identify image file <_io.BytesIO object at 0x7fedf9a27c90>\n"
          ]
        },
        {
          "output_type": "stream",
          "name": "stderr",
          "text": [
            "Loading Images:  54%|█████▎    | 324/605 [00:38<00:25, 10.84img/s]"
          ]
        },
        {
          "output_type": "stream",
          "name": "stdout",
          "text": [
            "Error loading https://raw.githubusercontent.com/prattapong/Commercial-Airplane-Model-Image-Classification/main/images/Airbus%20A350/5.jpg: cannot identify image file <_io.BytesIO object at 0x7fedf9ef1030>\n",
            "Error loading https://raw.githubusercontent.com/prattapong/Commercial-Airplane-Model-Image-Classification/main/images/Airbus%20A350/509949_1728587025.jpg: cannot identify image file <_io.BytesIO object at 0x7feea5abda80>\n"
          ]
        },
        {
          "output_type": "stream",
          "name": "stderr",
          "text": [
            "Loading Images:  56%|█████▌    | 337/605 [00:39<00:27,  9.67img/s]"
          ]
        },
        {
          "output_type": "stream",
          "name": "stdout",
          "text": [
            "Error loading https://raw.githubusercontent.com/prattapong/Commercial-Airplane-Model-Image-Classification/main/images/Airbus%20A350/6%20(1).jpg: cannot identify image file <_io.BytesIO object at 0x7fedf9a27c90>\n"
          ]
        },
        {
          "output_type": "stream",
          "name": "stderr",
          "text": [
            "Loading Images:  57%|█████▋    | 344/605 [00:40<00:31,  8.41img/s]"
          ]
        },
        {
          "output_type": "stream",
          "name": "stdout",
          "text": [
            "Error loading https://raw.githubusercontent.com/prattapong/Commercial-Airplane-Model-Image-Classification/main/images/Airbus%20A350/630199_1734875277.jpg: cannot identify image file <_io.BytesIO object at 0x7fedf9a27c90>\n"
          ]
        },
        {
          "output_type": "stream",
          "name": "stderr",
          "text": [
            "Loading Images:  58%|█████▊    | 348/605 [00:41<00:23, 10.85img/s]"
          ]
        },
        {
          "output_type": "stream",
          "name": "stdout",
          "text": [
            "Error loading https://raw.githubusercontent.com/prattapong/Commercial-Airplane-Model-Image-Classification/main/images/Airbus%20A350/647041_1684274390.jpg: cannot identify image file <_io.BytesIO object at 0x7fedf99c93f0>\n",
            "Error loading https://raw.githubusercontent.com/prattapong/Commercial-Airplane-Model-Image-Classification/main/images/Airbus%20A350/654101_1734033683.jpg: cannot identify image file <_io.BytesIO object at 0x7fedf99c93f0>\n"
          ]
        },
        {
          "output_type": "stream",
          "name": "stderr",
          "text": [
            "Loading Images:  58%|█████▊    | 352/605 [00:41<00:23, 10.90img/s]"
          ]
        },
        {
          "output_type": "stream",
          "name": "stdout",
          "text": [
            "Error loading https://raw.githubusercontent.com/prattapong/Commercial-Airplane-Model-Image-Classification/main/images/Airbus%20A350/676213_1682631156.jpg: cannot identify image file <_io.BytesIO object at 0x7fee25a2e070>\n"
          ]
        },
        {
          "output_type": "stream",
          "name": "stderr",
          "text": [
            "\rLoading Images:  59%|█████▊    | 354/605 [00:41<00:26,  9.38img/s]"
          ]
        },
        {
          "output_type": "stream",
          "name": "stdout",
          "text": [
            "Error loading https://raw.githubusercontent.com/prattapong/Commercial-Airplane-Model-Image-Classification/main/images/Airbus%20A350/691587_1737110881.jpg: cannot identify image file <_io.BytesIO object at 0x7fedf9a27c90>\n"
          ]
        },
        {
          "output_type": "stream",
          "name": "stderr",
          "text": [
            "Loading Images:  60%|██████    | 363/605 [00:43<00:37,  6.52img/s]"
          ]
        },
        {
          "output_type": "stream",
          "name": "stdout",
          "text": [
            "Error loading https://raw.githubusercontent.com/prattapong/Commercial-Airplane-Model-Image-Classification/main/images/Airbus%20A350/746757_1714504250.jpg: cannot identify image file <_io.BytesIO object at 0x7fedfbf9f150>\n"
          ]
        },
        {
          "output_type": "stream",
          "name": "stderr",
          "text": [
            "\rLoading Images:  60%|██████    | 365/605 [00:43<00:31,  7.65img/s]"
          ]
        },
        {
          "output_type": "stream",
          "name": "stdout",
          "text": [
            "Error loading https://raw.githubusercontent.com/prattapong/Commercial-Airplane-Model-Image-Classification/main/images/Airbus%20A350/769335_1738625303.jpg: cannot identify image file <_io.BytesIO object at 0x7fedf9ecbd80>\n"
          ]
        },
        {
          "output_type": "stream",
          "name": "stderr",
          "text": [
            "Loading Images:  61%|██████    | 369/605 [00:43<00:23,  9.94img/s]"
          ]
        },
        {
          "output_type": "stream",
          "name": "stdout",
          "text": [
            "Error loading https://raw.githubusercontent.com/prattapong/Commercial-Airplane-Model-Image-Classification/main/images/Airbus%20A350/804140_1733772271.jpg: cannot identify image file <_io.BytesIO object at 0x7fedfbf9f150>\n",
            "Error loading https://raw.githubusercontent.com/prattapong/Commercial-Airplane-Model-Image-Classification/main/images/Airbus%20A350/816468_1714889608.jpg: cannot identify image file <_io.BytesIO object at 0x7fee25a2e930>\n"
          ]
        },
        {
          "output_type": "stream",
          "name": "stderr",
          "text": [
            "\rLoading Images:  61%|██████▏   | 371/605 [00:44<00:33,  6.98img/s]"
          ]
        },
        {
          "output_type": "stream",
          "name": "stdout",
          "text": [
            "Error loading https://raw.githubusercontent.com/prattapong/Commercial-Airplane-Model-Image-Classification/main/images/Airbus%20A350/839187_1735829516.jpg: cannot identify image file <_io.BytesIO object at 0x7fedf9ea9d50>\n"
          ]
        },
        {
          "output_type": "stream",
          "name": "stderr",
          "text": [
            "Loading Images:  63%|██████▎   | 381/605 [00:46<00:33,  6.61img/s]"
          ]
        },
        {
          "output_type": "stream",
          "name": "stdout",
          "text": [
            "Error loading https://raw.githubusercontent.com/prattapong/Commercial-Airplane-Model-Image-Classification/main/images/Airbus%20A350/896702_1738171173.jpg: cannot identify image file <_io.BytesIO object at 0x7fedfbf9f150>\n"
          ]
        },
        {
          "output_type": "stream",
          "name": "stderr",
          "text": [
            "\rLoading Images:  63%|██████▎   | 383/605 [00:46<00:28,  7.84img/s]"
          ]
        },
        {
          "output_type": "stream",
          "name": "stdout",
          "text": [
            "Error loading https://raw.githubusercontent.com/prattapong/Commercial-Airplane-Model-Image-Classification/main/images/Airbus%20A350/9.jpg: cannot identify image file <_io.BytesIO object at 0x7fedf9ea9d50>\n",
            "Error loading https://raw.githubusercontent.com/prattapong/Commercial-Airplane-Model-Image-Classification/main/images/Airbus%20A350/905184_1713521221.jpg: cannot identify image file <_io.BytesIO object at 0x7fedf9a90810>\n"
          ]
        },
        {
          "output_type": "stream",
          "name": "stderr",
          "text": [
            "Loading Images:  64%|██████▍   | 388/605 [00:47<00:34,  6.33img/s]"
          ]
        },
        {
          "output_type": "stream",
          "name": "stdout",
          "text": [
            "Error loading https://raw.githubusercontent.com/prattapong/Commercial-Airplane-Model-Image-Classification/main/images/Airbus%20A350/938278_1738144908.jpg: cannot identify image file <_io.BytesIO object at 0x7fedf90dbbf0>\n"
          ]
        },
        {
          "output_type": "stream",
          "name": "stderr",
          "text": [
            "Loading Images:  65%|██████▍   | 391/605 [00:47<00:30,  7.01img/s]"
          ]
        },
        {
          "output_type": "stream",
          "name": "stdout",
          "text": [
            "Error loading https://raw.githubusercontent.com/prattapong/Commercial-Airplane-Model-Image-Classification/main/images/Airbus%20A350/950378_1740396233.jpg: cannot identify image file <_io.BytesIO object at 0x7fedfbf9f150>\n",
            "Error loading https://raw.githubusercontent.com/prattapong/Commercial-Airplane-Model-Image-Classification/main/images/Airbus%20A350/967cef1e1984a90b2ea6b588dc8fd0dc1ab7f747.jpg: cannot identify image file <_io.BytesIO object at 0x7fedf99c9490>\n",
            "Error loading https://raw.githubusercontent.com/prattapong/Commercial-Airplane-Model-Image-Classification/main/images/Airbus%20A350/97550_1621483942.jpg: cannot identify image file <_io.BytesIO object at 0x7fedf99c9760>\n"
          ]
        },
        {
          "output_type": "stream",
          "name": "stderr",
          "text": [
            "\rLoading Images:  65%|██████▍   | 393/605 [00:47<00:25,  8.38img/s]"
          ]
        },
        {
          "output_type": "stream",
          "name": "stdout",
          "text": [
            "Error loading https://raw.githubusercontent.com/prattapong/Commercial-Airplane-Model-Image-Classification/main/images/Airbus%20A350/99162_1576818595.jpg: cannot identify image file <_io.BytesIO object at 0x7fedf99f93f0>\n"
          ]
        },
        {
          "output_type": "stream",
          "name": "stderr",
          "text": [
            "Loading Images:  66%|██████▌   | 399/605 [00:48<00:20,  9.96img/s]"
          ]
        },
        {
          "output_type": "stream",
          "name": "stdout",
          "text": [
            "Error loading https://raw.githubusercontent.com/prattapong/Commercial-Airplane-Model-Image-Classification/main/images/Airbus%20A350/Screenshot%202025-03-08%20195557.JPG: cannot identify image file <_io.BytesIO object at 0x7fedf99c9760>\n",
            "Error loading https://raw.githubusercontent.com/prattapong/Commercial-Airplane-Model-Image-Classification/main/images/Airbus%20A350/Screenshot%202025-03-08%20195706.JPG: cannot identify image file <_io.BytesIO object at 0x7fedf9a27c90>\n"
          ]
        },
        {
          "output_type": "stream",
          "name": "stderr",
          "text": [
            "Loading Images:  67%|██████▋   | 406/605 [00:50<00:41,  4.81img/s]"
          ]
        },
        {
          "output_type": "stream",
          "name": "stdout",
          "text": [
            "Error loading https://raw.githubusercontent.com/prattapong/Commercial-Airplane-Model-Image-Classification/main/images/Airbus%20A350/Screenshot%202025-03-08%20200121.JPG: cannot identify image file <_io.BytesIO object at 0x7fedf9ea9d50>\n"
          ]
        },
        {
          "output_type": "stream",
          "name": "stderr",
          "text": [
            "Loading Images:  67%|██████▋   | 408/605 [00:50<00:37,  5.19img/s]"
          ]
        },
        {
          "output_type": "stream",
          "name": "stdout",
          "text": [
            "Error loading https://raw.githubusercontent.com/prattapong/Commercial-Airplane-Model-Image-Classification/main/images/Airbus%20A350/Screenshot%202025-03-08%20200334.JPG: cannot identify image file <_io.BytesIO object at 0x7fedf99c9490>\n",
            "Error loading https://raw.githubusercontent.com/prattapong/Commercial-Airplane-Model-Image-Classification/main/images/Airbus%20A350/Screenshot%202025-03-08%20200358.JPG: cannot identify image file <_io.BytesIO object at 0x7fedf9a27d30>\n"
          ]
        },
        {
          "output_type": "stream",
          "name": "stderr",
          "text": [
            "Loading Images:  68%|██████▊   | 414/605 [00:51<00:23,  8.11img/s]"
          ]
        },
        {
          "output_type": "stream",
          "name": "stdout",
          "text": [
            "Error loading https://raw.githubusercontent.com/prattapong/Commercial-Airplane-Model-Image-Classification/main/images/Airbus%20A350/de1d24dbbe6926666e3c9c7a8e5ae046dbac3f13.jpg: cannot identify image file <_io.BytesIO object at 0x7fedf9a27c90>\n"
          ]
        },
        {
          "output_type": "stream",
          "name": "stderr",
          "text": [
            "\rLoading Images:  69%|██████▉   | 416/605 [00:51<00:28,  6.71img/s]"
          ]
        },
        {
          "output_type": "stream",
          "name": "stdout",
          "text": [
            "Error loading https://raw.githubusercontent.com/prattapong/Commercial-Airplane-Model-Image-Classification/main/images/Boeing%20787/10.jpg: cannot identify image file <_io.BytesIO object at 0x7fedf9ea9d50>\n"
          ]
        },
        {
          "output_type": "stream",
          "name": "stderr",
          "text": [
            "Loading Images:  69%|██████▉   | 420/605 [00:52<00:25,  7.32img/s]"
          ]
        },
        {
          "output_type": "stream",
          "name": "stdout",
          "text": [
            "Error loading https://raw.githubusercontent.com/prattapong/Commercial-Airplane-Model-Image-Classification/main/images/Boeing%20787/1027394_1728964400.jpg: cannot identify image file <_io.BytesIO object at 0x7fedf9ef0f90>\n"
          ]
        },
        {
          "output_type": "stream",
          "name": "stderr",
          "text": [
            "Loading Images:  70%|██████▉   | 423/605 [00:52<00:26,  6.97img/s]"
          ]
        },
        {
          "output_type": "stream",
          "name": "stdout",
          "text": [
            "Error loading https://raw.githubusercontent.com/prattapong/Commercial-Airplane-Model-Image-Classification/main/images/Boeing%20787/1044990_1738208464.jpg: cannot identify image file <_io.BytesIO object at 0x7fedf9ef0f90>\n"
          ]
        },
        {
          "output_type": "stream",
          "name": "stderr",
          "text": [
            "Loading Images:  70%|███████   | 426/605 [00:53<00:30,  5.92img/s]"
          ]
        },
        {
          "output_type": "stream",
          "name": "stdout",
          "text": [
            "Error loading https://raw.githubusercontent.com/prattapong/Commercial-Airplane-Model-Image-Classification/main/images/Boeing%20787/1064075_1741934416.jpg: cannot identify image file <_io.BytesIO object at 0x7fedf9ef0f90>\n",
            "Error loading https://raw.githubusercontent.com/prattapong/Commercial-Airplane-Model-Image-Classification/main/images/Boeing%20787/11.jpg: cannot identify image file <_io.BytesIO object at 0x7fee25a2e070>\n"
          ]
        },
        {
          "output_type": "stream",
          "name": "stderr",
          "text": [
            "Loading Images:  71%|███████   | 430/605 [00:54<00:24,  7.20img/s]"
          ]
        },
        {
          "output_type": "stream",
          "name": "stdout",
          "text": [
            "Error loading https://raw.githubusercontent.com/prattapong/Commercial-Airplane-Model-Image-Classification/main/images/Boeing%20787/12.jpg: cannot identify image file <_io.BytesIO object at 0x7fedf9ef0f90>\n",
            "Error loading https://raw.githubusercontent.com/prattapong/Commercial-Airplane-Model-Image-Classification/main/images/Boeing%20787/1220244_1740045981.jpg: cannot identify image file <_io.BytesIO object at 0x7fedf9a27c90>\n"
          ]
        },
        {
          "output_type": "stream",
          "name": "stderr",
          "text": [
            "Loading Images:  72%|███████▏  | 435/605 [00:54<00:17,  9.68img/s]"
          ]
        },
        {
          "output_type": "stream",
          "name": "stdout",
          "text": [
            "Error loading https://raw.githubusercontent.com/prattapong/Commercial-Airplane-Model-Image-Classification/main/images/Boeing%20787/1360655_1731068603.jpg: cannot identify image file <_io.BytesIO object at 0x7fee25a2e070>\n",
            "Error loading https://raw.githubusercontent.com/prattapong/Commercial-Airplane-Model-Image-Classification/main/images/Boeing%20787/1377862_1739297706.jpg: cannot identify image file <_io.BytesIO object at 0x7fee25a2f9c0>\n"
          ]
        },
        {
          "output_type": "stream",
          "name": "stderr",
          "text": [
            "\rLoading Images:  72%|███████▏  | 437/605 [00:54<00:21,  7.72img/s]"
          ]
        },
        {
          "output_type": "stream",
          "name": "stdout",
          "text": [
            "Error loading https://raw.githubusercontent.com/prattapong/Commercial-Airplane-Model-Image-Classification/main/images/Boeing%20787/14.jpg: cannot identify image file <_io.BytesIO object at 0x7fedf9ed6890>\n"
          ]
        },
        {
          "output_type": "stream",
          "name": "stderr",
          "text": [
            "Loading Images:  73%|███████▎  | 440/605 [00:55<00:25,  6.45img/s]"
          ]
        },
        {
          "output_type": "stream",
          "name": "stdout",
          "text": [
            "Error loading https://raw.githubusercontent.com/prattapong/Commercial-Airplane-Model-Image-Classification/main/images/Boeing%20787/15.jpg: cannot identify image file <_io.BytesIO object at 0x7fee25a2f9c0>\n",
            "Error loading https://raw.githubusercontent.com/prattapong/Commercial-Airplane-Model-Image-Classification/main/images/Boeing%20787/1679328_1682228272.jpg: cannot identify image file <_io.BytesIO object at 0x7fedf9ef1030>\n"
          ]
        },
        {
          "output_type": "stream",
          "name": "stderr",
          "text": [
            "Loading Images:  74%|███████▎  | 446/605 [00:56<00:18,  8.45img/s]"
          ]
        },
        {
          "output_type": "stream",
          "name": "stdout",
          "text": [
            "Error loading https://raw.githubusercontent.com/prattapong/Commercial-Airplane-Model-Image-Classification/main/images/Boeing%20787/17.jpg: cannot identify image file <_io.BytesIO object at 0x7fee25a2e070>\n",
            "Error loading https://raw.githubusercontent.com/prattapong/Commercial-Airplane-Model-Image-Classification/main/images/Boeing%20787/1825810_1716884448.jpg: cannot identify image file <_io.BytesIO object at 0x7fedf9a27c90>\n"
          ]
        },
        {
          "output_type": "stream",
          "name": "stderr",
          "text": [
            "Loading Images:  74%|███████▍  | 450/605 [00:56<00:18,  8.45img/s]"
          ]
        },
        {
          "output_type": "stream",
          "name": "stdout",
          "text": [
            "Error loading https://raw.githubusercontent.com/prattapong/Commercial-Airplane-Model-Image-Classification/main/images/Boeing%20787/2.jpg: cannot identify image file <_io.BytesIO object at 0x7fedf9ef1030>\n"
          ]
        },
        {
          "output_type": "stream",
          "name": "stderr",
          "text": [
            "\rLoading Images:  75%|███████▍  | 452/605 [00:56<00:15,  9.93img/s]"
          ]
        },
        {
          "output_type": "stream",
          "name": "stdout",
          "text": [
            "Error loading https://raw.githubusercontent.com/prattapong/Commercial-Airplane-Model-Image-Classification/main/images/Boeing%20787/2037394_1735464272.jpg: cannot identify image file <_io.BytesIO object at 0x7fedf9ecbd80>\n",
            "Error loading https://raw.githubusercontent.com/prattapong/Commercial-Airplane-Model-Image-Classification/main/images/Boeing%20787/21.jpg: cannot identify image file <_io.BytesIO object at 0x7fedf9a90040>\n"
          ]
        },
        {
          "output_type": "stream",
          "name": "stderr",
          "text": [
            "\rLoading Images:  75%|███████▌  | 454/605 [00:56<00:16,  8.98img/s]"
          ]
        },
        {
          "output_type": "stream",
          "name": "stdout",
          "text": [
            "Error loading https://raw.githubusercontent.com/prattapong/Commercial-Airplane-Model-Image-Classification/main/images/Boeing%20787/23.jpg: cannot identify image file <_io.BytesIO object at 0x7fedf9a27e70>\n",
            "Error loading https://raw.githubusercontent.com/prattapong/Commercial-Airplane-Model-Image-Classification/main/images/Boeing%20787/24.jpg: cannot identify image file <_io.BytesIO object at 0x7fedf9a90270>\n"
          ]
        },
        {
          "output_type": "stream",
          "name": "stderr",
          "text": [
            "Loading Images:  76%|███████▌  | 458/605 [00:57<00:18,  7.85img/s]"
          ]
        },
        {
          "output_type": "stream",
          "name": "stdout",
          "text": [
            "Error loading https://raw.githubusercontent.com/prattapong/Commercial-Airplane-Model-Image-Classification/main/images/Boeing%20787/27.jpg: cannot identify image file <_io.BytesIO object at 0x7fedfab0f060>\n"
          ]
        },
        {
          "output_type": "stream",
          "name": "stderr",
          "text": [
            "\rLoading Images:  76%|███████▌  | 460/605 [00:57<00:18,  7.63img/s]"
          ]
        },
        {
          "output_type": "stream",
          "name": "stdout",
          "text": [
            "Error loading https://raw.githubusercontent.com/prattapong/Commercial-Airplane-Model-Image-Classification/main/images/Boeing%20787/29.jpg: cannot identify image file <_io.BytesIO object at 0x7fedf9a90040>\n"
          ]
        },
        {
          "output_type": "stream",
          "name": "stderr",
          "text": [
            "Loading Images:  77%|███████▋  | 465/605 [00:58<00:16,  8.68img/s]"
          ]
        },
        {
          "output_type": "stream",
          "name": "stdout",
          "text": [
            "Error loading https://raw.githubusercontent.com/prattapong/Commercial-Airplane-Model-Image-Classification/main/images/Boeing%20787/307029_1736975631.jpg: cannot identify image file <_io.BytesIO object at 0x7fedf90dbc40>\n"
          ]
        },
        {
          "output_type": "stream",
          "name": "stderr",
          "text": [
            "Loading Images:  78%|███████▊  | 470/605 [00:58<00:14,  9.62img/s]"
          ]
        },
        {
          "output_type": "stream",
          "name": "stdout",
          "text": [
            "Error loading https://raw.githubusercontent.com/prattapong/Commercial-Airplane-Model-Image-Classification/main/images/Boeing%20787/32.jpg: cannot identify image file <_io.BytesIO object at 0x7fedf9e99580>\n",
            "Error loading https://raw.githubusercontent.com/prattapong/Commercial-Airplane-Model-Image-Classification/main/images/Boeing%20787/33.jpg: cannot identify image file <_io.BytesIO object at 0x7fedf99c98a0>\n"
          ]
        },
        {
          "output_type": "stream",
          "name": "stderr",
          "text": [
            "Loading Images:  79%|███████▊  | 476/605 [00:59<00:15,  8.14img/s]"
          ]
        },
        {
          "output_type": "stream",
          "name": "stdout",
          "text": [
            "Error loading https://raw.githubusercontent.com/prattapong/Commercial-Airplane-Model-Image-Classification/main/images/Boeing%20787/35.jpg: cannot identify image file <_io.BytesIO object at 0x7fee25a2ee30>\n"
          ]
        },
        {
          "output_type": "stream",
          "name": "stderr",
          "text": [
            "\rLoading Images:  79%|███████▉  | 478/605 [01:00<00:15,  8.10img/s]"
          ]
        },
        {
          "output_type": "stream",
          "name": "stdout",
          "text": [
            "Error loading https://raw.githubusercontent.com/prattapong/Commercial-Airplane-Model-Image-Classification/main/images/Boeing%20787/363284_1737196434.jpg: cannot identify image file <_io.BytesIO object at 0x7fedf99f93f0>\n"
          ]
        },
        {
          "output_type": "stream",
          "name": "stderr",
          "text": [
            "Loading Images:  80%|███████▉  | 482/605 [01:00<00:19,  6.26img/s]"
          ]
        },
        {
          "output_type": "stream",
          "name": "stdout",
          "text": [
            "Error loading https://raw.githubusercontent.com/prattapong/Commercial-Airplane-Model-Image-Classification/main/images/Boeing%20787/372940_1735782685.jpg: cannot identify image file <_io.BytesIO object at 0x7fee25a2ee30>\n"
          ]
        },
        {
          "output_type": "stream",
          "name": "stderr",
          "text": [
            "Loading Images:  80%|████████  | 486/605 [01:01<00:15,  7.68img/s]"
          ]
        },
        {
          "output_type": "stream",
          "name": "stdout",
          "text": [
            "Error loading https://raw.githubusercontent.com/prattapong/Commercial-Airplane-Model-Image-Classification/main/images/Boeing%20787/39.jpg: cannot identify image file <_io.BytesIO object at 0x7fedf9062d90>\n"
          ]
        },
        {
          "output_type": "stream",
          "name": "stderr",
          "text": [
            "\rLoading Images:  81%|████████  | 488/605 [01:01<00:12,  9.01img/s]"
          ]
        },
        {
          "output_type": "stream",
          "name": "stdout",
          "text": [
            "Error loading https://raw.githubusercontent.com/prattapong/Commercial-Airplane-Model-Image-Classification/main/images/Boeing%20787/391998_1739957214.jpg: cannot identify image file <_io.BytesIO object at 0x7fedfbf9f150>\n"
          ]
        },
        {
          "output_type": "stream",
          "name": "stderr",
          "text": [
            "Loading Images:  81%|████████▏ | 492/605 [01:02<00:13,  8.65img/s]"
          ]
        },
        {
          "output_type": "stream",
          "name": "stdout",
          "text": [
            "Error loading https://raw.githubusercontent.com/prattapong/Commercial-Airplane-Model-Image-Classification/main/images/Boeing%20787/396446_1734518718.jpg: cannot identify image file <_io.BytesIO object at 0x7fedfa8502c0>\n",
            "Error loading https://raw.githubusercontent.com/prattapong/Commercial-Airplane-Model-Image-Classification/main/images/Boeing%20787/399086_1722884796.jpg: cannot identify image file <_io.BytesIO object at 0x7fee25a2ee30>\n",
            "Error loading https://raw.githubusercontent.com/prattapong/Commercial-Airplane-Model-Image-Classification/main/images/Boeing%20787/4%20(1).jpg: cannot identify image file <_io.BytesIO object at 0x7fedfbf9f150>\n",
            "Error loading https://raw.githubusercontent.com/prattapong/Commercial-Airplane-Model-Image-Classification/main/images/Boeing%20787/4.jpg: cannot identify image file <_io.BytesIO object at 0x7fedf9062d90>\n"
          ]
        },
        {
          "output_type": "stream",
          "name": "stderr",
          "text": [
            "Loading Images:  82%|████████▏ | 499/605 [01:03<00:14,  7.17img/s]"
          ]
        },
        {
          "output_type": "stream",
          "name": "stdout",
          "text": [
            "Error loading https://raw.githubusercontent.com/prattapong/Commercial-Airplane-Model-Image-Classification/main/images/Boeing%20787/423806_1739159769.jpg: cannot identify image file <_io.BytesIO object at 0x7fedfa8502c0>\n"
          ]
        },
        {
          "output_type": "stream",
          "name": "stderr",
          "text": [
            "Loading Images:  84%|████████▎ | 506/605 [01:04<00:14,  6.61img/s]"
          ]
        },
        {
          "output_type": "stream",
          "name": "stdout",
          "text": [
            "Error loading https://raw.githubusercontent.com/prattapong/Commercial-Airplane-Model-Image-Classification/main/images/Boeing%20787/491011_1725547169.jpg: cannot identify image file <_io.BytesIO object at 0x7fedf9062d90>\n",
            "Error loading https://raw.githubusercontent.com/prattapong/Commercial-Airplane-Model-Image-Classification/main/images/Boeing%20787/494576_1734086008.jpg: cannot identify image file <_io.BytesIO object at 0x7fedfa8502c0>\n"
          ]
        },
        {
          "output_type": "stream",
          "name": "stderr",
          "text": [
            "Loading Images:  85%|████████▌ | 515/605 [01:06<00:13,  6.83img/s]"
          ]
        },
        {
          "output_type": "stream",
          "name": "stdout",
          "text": [
            "Error loading https://raw.githubusercontent.com/prattapong/Commercial-Airplane-Model-Image-Classification/main/images/Boeing%20787/508317_1737995399.jpg: cannot identify image file <_io.BytesIO object at 0x7fedfa8502c0>\n",
            "Error loading https://raw.githubusercontent.com/prattapong/Commercial-Airplane-Model-Image-Classification/main/images/Boeing%20787/512922_1739662274.jpg: cannot identify image file <_io.BytesIO object at 0x7fedf9062d90>\n",
            "Error loading https://raw.githubusercontent.com/prattapong/Commercial-Airplane-Model-Image-Classification/main/images/Boeing%20787/554343_1738231793.jpg: cannot identify image file <_io.BytesIO object at 0x7fedfa8502c0>\n"
          ]
        },
        {
          "output_type": "stream",
          "name": "stderr",
          "text": [
            "Loading Images:  86%|████████▌ | 520/605 [01:06<00:12,  6.96img/s]"
          ]
        },
        {
          "output_type": "stream",
          "name": "stdout",
          "text": [
            "Error loading https://raw.githubusercontent.com/prattapong/Commercial-Airplane-Model-Image-Classification/main/images/Boeing%20787/567647_1740306741.jpg: cannot identify image file <_io.BytesIO object at 0x7fedf9a91030>\n",
            "Error loading https://raw.githubusercontent.com/prattapong/Commercial-Airplane-Model-Image-Classification/main/images/Boeing%20787/575550_1736536897.jpg: cannot identify image file <_io.BytesIO object at 0x7feeb4fe9670>\n"
          ]
        },
        {
          "output_type": "stream",
          "name": "stderr",
          "text": [
            "Loading Images:  87%|████████▋ | 524/605 [01:07<00:18,  4.32img/s]"
          ]
        },
        {
          "output_type": "stream",
          "name": "stdout",
          "text": [
            "Error loading https://raw.githubusercontent.com/prattapong/Commercial-Airplane-Model-Image-Classification/main/images/Boeing%20787/6%20(1).jpg: cannot identify image file <_io.BytesIO object at 0x7fedf904d4e0>\n"
          ]
        },
        {
          "output_type": "stream",
          "name": "stderr",
          "text": [
            "Loading Images:  88%|████████▊ | 530/605 [01:08<00:13,  5.48img/s]"
          ]
        },
        {
          "output_type": "stream",
          "name": "stdout",
          "text": [
            "Error loading https://raw.githubusercontent.com/prattapong/Commercial-Airplane-Model-Image-Classification/main/images/Boeing%20787/628325_1739768261.jpg: cannot identify image file <_io.BytesIO object at 0x7fedfa8502c0>\n"
          ]
        },
        {
          "output_type": "stream",
          "name": "stderr",
          "text": [
            "Loading Images:  88%|████████▊ | 534/605 [01:09<00:10,  6.93img/s]"
          ]
        },
        {
          "output_type": "stream",
          "name": "stdout",
          "text": [
            "Error loading https://raw.githubusercontent.com/prattapong/Commercial-Airplane-Model-Image-Classification/main/images/Boeing%20787/647740_1739021912.jpg: cannot identify image file <_io.BytesIO object at 0x7fedfab0f060>\n",
            "Error loading https://raw.githubusercontent.com/prattapong/Commercial-Airplane-Model-Image-Classification/main/images/Boeing%20787/653555_1737949408.jpg: cannot identify image file <_io.BytesIO object at 0x7fedf9ef1030>\n"
          ]
        },
        {
          "output_type": "stream",
          "name": "stderr",
          "text": [
            "Loading Images:  89%|████████▉ | 540/605 [01:10<00:10,  6.15img/s]"
          ]
        },
        {
          "output_type": "stream",
          "name": "stdout",
          "text": [
            "Error loading https://raw.githubusercontent.com/prattapong/Commercial-Airplane-Model-Image-Classification/main/images/Boeing%20787/664862_1732631634.jpg: cannot identify image file <_io.BytesIO object at 0x7fedf904d4e0>\n"
          ]
        },
        {
          "output_type": "stream",
          "name": "stderr",
          "text": [
            "Loading Images:  90%|████████▉ | 542/605 [01:11<00:13,  4.57img/s]"
          ]
        },
        {
          "output_type": "stream",
          "name": "stdout",
          "text": [
            "Error loading https://raw.githubusercontent.com/prattapong/Commercial-Airplane-Model-Image-Classification/main/images/Boeing%20787/688227_1737858981.jpg: cannot identify image file <_io.BytesIO object at 0x7fedf9e99580>\n"
          ]
        },
        {
          "output_type": "stream",
          "name": "stderr",
          "text": [
            "Loading Images:  90%|█████████ | 547/605 [01:12<00:11,  5.03img/s]"
          ]
        },
        {
          "output_type": "stream",
          "name": "stdout",
          "text": [
            "Error loading https://raw.githubusercontent.com/prattapong/Commercial-Airplane-Model-Image-Classification/main/images/Boeing%20787/701108_1737635536.jpg: cannot identify image file <_io.BytesIO object at 0x7fedf99f4f40>\n"
          ]
        },
        {
          "output_type": "stream",
          "name": "stderr",
          "text": [
            "\rLoading Images:  91%|█████████ | 549/605 [01:12<00:10,  5.35img/s]"
          ]
        },
        {
          "output_type": "stream",
          "name": "stdout",
          "text": [
            "Error loading https://raw.githubusercontent.com/prattapong/Commercial-Airplane-Model-Image-Classification/main/images/Boeing%20787/719877_1734542303.jpg: cannot identify image file <_io.BytesIO object at 0x7fedfbf9f150>\n"
          ]
        },
        {
          "output_type": "stream",
          "name": "stderr",
          "text": [
            "Loading Images:  92%|█████████▏| 555/605 [01:13<00:07,  6.80img/s]"
          ]
        },
        {
          "output_type": "stream",
          "name": "stdout",
          "text": [
            "Error loading https://raw.githubusercontent.com/prattapong/Commercial-Airplane-Model-Image-Classification/main/images/Boeing%20787/749803_1731673239.jpg: cannot identify image file <_io.BytesIO object at 0x7fedfbf9f150>\n",
            "Error loading https://raw.githubusercontent.com/prattapong/Commercial-Airplane-Model-Image-Classification/main/images/Boeing%20787/758117_1725740354.jpg: cannot identify image file <_io.BytesIO object at 0x7fedf9e99580>\n",
            "Error loading https://raw.githubusercontent.com/prattapong/Commercial-Airplane-Model-Image-Classification/main/images/Boeing%20787/762830_1735899228.jpg: cannot identify image file <_io.BytesIO object at 0x7fedf9ef0f90>\n"
          ]
        },
        {
          "output_type": "stream",
          "name": "stderr",
          "text": [
            "Loading Images:  93%|█████████▎| 560/605 [01:14<00:08,  5.22img/s]"
          ]
        },
        {
          "output_type": "stream",
          "name": "stdout",
          "text": [
            "Error loading https://raw.githubusercontent.com/prattapong/Commercial-Airplane-Model-Image-Classification/main/images/Boeing%20787/780469_1740316571.jpg: cannot identify image file <_io.BytesIO object at 0x7fedf9ed6890>\n",
            "Error loading https://raw.githubusercontent.com/prattapong/Commercial-Airplane-Model-Image-Classification/main/images/Boeing%20787/8.jpg: cannot identify image file <_io.BytesIO object at 0x7fedf99c98a0>\n"
          ]
        },
        {
          "output_type": "stream",
          "name": "stderr",
          "text": [
            "\rLoading Images:  93%|█████████▎| 563/605 [01:14<00:06,  6.65img/s]"
          ]
        },
        {
          "output_type": "stream",
          "name": "stdout",
          "text": [
            "Error loading https://raw.githubusercontent.com/prattapong/Commercial-Airplane-Model-Image-Classification/main/images/Boeing%20787/806655_1737013767.jpg: cannot identify image file <_io.BytesIO object at 0x7fedfbf9f150>\n"
          ]
        },
        {
          "output_type": "stream",
          "name": "stderr",
          "text": [
            "Loading Images:  94%|█████████▍| 571/605 [01:15<00:04,  8.42img/s]"
          ]
        },
        {
          "output_type": "stream",
          "name": "stdout",
          "text": [
            "Error loading https://raw.githubusercontent.com/prattapong/Commercial-Airplane-Model-Image-Classification/main/images/Boeing%20787/840181_1739378119.jpg: cannot identify image file <_io.BytesIO object at 0x7fedf99f93f0>\n",
            "Error loading https://raw.githubusercontent.com/prattapong/Commercial-Airplane-Model-Image-Classification/main/images/Boeing%20787/845739_1735538513.jpg: cannot identify image file <_io.BytesIO object at 0x7fedf99f4f40>\n"
          ]
        },
        {
          "output_type": "stream",
          "name": "stderr",
          "text": [
            "Loading Images:  96%|█████████▌| 581/605 [01:17<00:02,  9.38img/s]"
          ]
        },
        {
          "output_type": "stream",
          "name": "stdout",
          "text": [
            "Error loading https://raw.githubusercontent.com/prattapong/Commercial-Airplane-Model-Image-Classification/main/images/Boeing%20787/901632_1741869631.jpg: cannot identify image file <_io.BytesIO object at 0x7fedf9ea9d50>\n",
            "Error loading https://raw.githubusercontent.com/prattapong/Commercial-Airplane-Model-Image-Classification/main/images/Boeing%20787/929688_1740069036.jpg: cannot identify image file <_io.BytesIO object at 0x7fedf9ed4d10>\n",
            "Error loading https://raw.githubusercontent.com/prattapong/Commercial-Airplane-Model-Image-Classification/main/images/Boeing%20787/935910_1739537363.jpg: cannot identify image file <_io.BytesIO object at 0x7fedf9ed6890>\n"
          ]
        },
        {
          "output_type": "stream",
          "name": "stderr",
          "text": [
            "Loading Images:  97%|█████████▋| 589/605 [01:19<00:02,  6.17img/s]"
          ]
        },
        {
          "output_type": "stream",
          "name": "stdout",
          "text": [
            "Error loading https://raw.githubusercontent.com/prattapong/Commercial-Airplane-Model-Image-Classification/main/images/Boeing%20787/Boeing_787_N1015B_ANA_Airlines_(27611880663)_(cropped).jpg: cannot identify image file <_io.BytesIO object at 0x7fedf9ef1030>\n",
            "Error loading https://raw.githubusercontent.com/prattapong/Commercial-Airplane-Model-Image-Classification/main/images/Boeing%20787/Boeing_787_first_flight.jpg: cannot identify image file <_io.BytesIO object at 0x7fedf90dae30>\n"
          ]
        },
        {
          "output_type": "stream",
          "name": "stderr",
          "text": [
            "Loading Images:  99%|█████████▊| 597/605 [01:19<00:00,  8.77img/s]"
          ]
        },
        {
          "output_type": "stream",
          "name": "stdout",
          "text": [
            "Error loading https://raw.githubusercontent.com/prattapong/Commercial-Airplane-Model-Image-Classification/main/images/Boeing%20787/Screenshot%202025-03-08%20202549.JPG: cannot identify image file <_io.BytesIO object at 0x7fedf9ed4d10>\n",
            "Error loading https://raw.githubusercontent.com/prattapong/Commercial-Airplane-Model-Image-Classification/main/images/Boeing%20787/Screenshot%202025-03-08%20202639.JPG: cannot identify image file <_io.BytesIO object at 0x7fedfbf9f150>\n",
            "Error loading https://raw.githubusercontent.com/prattapong/Commercial-Airplane-Model-Image-Classification/main/images/Boeing%20787/Screenshot%202025-03-08%20202741.JPG: cannot identify image file <_io.BytesIO object at 0x7fee25a2ee30>\n"
          ]
        },
        {
          "output_type": "stream",
          "name": "stderr",
          "text": [
            "\rLoading Images:  99%|█████████▉| 599/605 [01:20<00:00, 10.44img/s]"
          ]
        },
        {
          "output_type": "stream",
          "name": "stdout",
          "text": [
            "Error loading https://raw.githubusercontent.com/prattapong/Commercial-Airplane-Model-Image-Classification/main/images/Boeing%20787/Screenshot%202025-03-08%20203012.JPG: cannot identify image file <_io.BytesIO object at 0x7fee25a2e070>\n"
          ]
        },
        {
          "output_type": "stream",
          "name": "stderr",
          "text": [
            "\rLoading Images:  99%|█████████▉| 601/605 [01:20<00:00,  5.35img/s]"
          ]
        }
      ]
    },
    {
      "cell_type": "markdown",
      "source": [
        "# 3. Data-preprocessing"
      ],
      "metadata": {
        "id": "o2HlslEEIICa"
      }
    },
    {
      "cell_type": "code",
      "source": [
        "def augment_data(X_train):\n",
        "    datagen = ImageDataGenerator(\n",
        "        rotation_range=40,\n",
        "        width_shift_range=0.05,\n",
        "        height_shift_range=0.05,\n",
        "        shear_range=0.2,\n",
        "        zoom_range=0.2,\n",
        "        horizontal_flip=True,\n",
        "        fill_mode=\"nearest\"\n",
        "    )\n",
        "\n",
        "    datagen.fit(X_train)\n",
        "\n",
        "    return datagen"
      ],
      "metadata": {
        "id": "4Dku3IEFIOwA"
      },
      "execution_count": 5,
      "outputs": []
    },
    {
      "cell_type": "markdown",
      "source": [
        "# 4. Train model"
      ],
      "metadata": {
        "id": "1V21idVpIl1l"
      }
    },
    {
      "cell_type": "markdown",
      "source": [
        "### 4.1 List 5 pre-trained models"
      ],
      "metadata": {
        "id": "gJqMdlyIBeK3"
      }
    },
    {
      "cell_type": "code",
      "source": [
        "MODELS = {\n",
        "    \"ResNet50\": ResNet50,\n",
        "    \"VGG16\": VGG16,\n",
        "    \"DenseNet169\": DenseNet169,\n",
        "    \"Xception\": Xception,\n",
        "    \"ConvNeXtBase\": ConvNeXtBase\n",
        "}"
      ],
      "metadata": {
        "id": "80TWiYyFBo4D"
      },
      "execution_count": 6,
      "outputs": []
    },
    {
      "cell_type": "markdown",
      "source": [
        "### 4.2 Initiate training loop"
      ],
      "metadata": {
        "id": "u4xXQzZrPWqO"
      }
    },
    {
      "cell_type": "code",
      "execution_count": 11,
      "metadata": {
        "id": "kdI2QyIrpTO0"
      },
      "outputs": [],
      "source": [
        "def train_and_evaluate_model(model_name, X, y, batch_size, epochs, learning_rate, dropout_rate, num_unfreezed_layer=0):\n",
        "    print(f'*** Training {model_name} ***')\n",
        "    print(f'- Batch Size: {batch_size}')\n",
        "    print(f'- LR: {learning_rate}')\n",
        "    print(f'- Dropout: {dropout_rate}')\n",
        "    print(f'- Last \"{num_unfreezed_layer}\" layers unfreezed\\n')\n",
        "\n",
        "    # Train-Test Split\n",
        "    X_train, X_test, y_train, y_test = train_test_split(\n",
        "        X, y, test_size=0.2, stratify=y, random_state=SEED\n",
        "    )\n",
        "\n",
        "    # Define Input Layer\n",
        "    input_tensor = Input(shape=(224, 224, 3))\n",
        "\n",
        "    # Load Pretrained Model\n",
        "    base_model = MODELS[model_name](weights=\"imagenet\", include_top=False, input_tensor=input_tensor)\n",
        "\n",
        "    # Unfreeze Layers If Needed\n",
        "    if num_unfreezed_layer == 0:\n",
        "        for layer in base_model.layers:\n",
        "            layer.trainable = False\n",
        "    else:\n",
        "        for layer in base_model.layers[-num_unfreezed_layer:]:\n",
        "            layer.trainable = True\n",
        "\n",
        "    # Add Custom Classification Head\n",
        "    x = GlobalAveragePooling2D()(base_model.output)\n",
        "    x = Dense(128, activation=\"relu\")(x)\n",
        "    x = Dropout(dropout_rate)(x)\n",
        "    output_layer = Dense(len(np.unique(y)), activation=\"softmax\")(x)\n",
        "\n",
        "    # Build Model\n",
        "    model = Model(inputs=input_tensor, outputs=output_layer)\n",
        "    model.compile(optimizer=Adam(learning_rate=learning_rate),\n",
        "                  loss=\"sparse_categorical_crossentropy\",\n",
        "                  metrics=[\"accuracy\"])\n",
        "\n",
        "    # Data Augmentation\n",
        "    datagen = augment_data(X_train)\n",
        "\n",
        "    # Model Checkpointing\n",
        "    model_path = f'best_{model_name}.keras'  # Use .keras format\n",
        "    checkpoint = ModelCheckpoint(model_path, monitor='val_accuracy', save_best_only=True, mode='max', verbose=1)\n",
        "\n",
        "    # Train Model\n",
        "    history = model.fit(datagen.flow(X_train, y_train, batch_size=batch_size),\n",
        "                        validation_data=(X_test, y_test),\n",
        "                        epochs=epochs,\n",
        "                        callbacks=[checkpoint])\n",
        "\n",
        "    # Load Best Model (Fix for ConvNeXtBase)\n",
        "    custom_objects = get_custom_objects() if model_name == \"ConvNeXtBase\" else None\n",
        "    best_model = tf.keras.models.load_model(model_path, custom_objects=custom_objects)\n",
        "\n",
        "    # Evaluate on Test Data\n",
        "    test_loss, test_accuracy = best_model.evaluate(X_test, y_test)\n",
        "    print(f\"\\n{model_name} Test Accuracy: {test_accuracy:.4f}\")\n",
        "\n",
        "    return model_name, test_accuracy, history\n",
        "\n",
        "def compare_models(X, y, learning_rates, dropout_rates, batch_sizes, num_unfreezed_layers, epochs=50):\n",
        "    results = []\n",
        "\n",
        "    # Loop through all model hyperparameters with tqdm progress bar\n",
        "    for model_name in MODELS.keys():\n",
        "        for lr in learning_rates:\n",
        "            for dr in dropout_rates:\n",
        "                for batch_size in batch_sizes:\n",
        "                    for num_unfreezed_layer in num_unfreezed_layers:\n",
        "                        result = train_and_evaluate_model(model_name, X, y, batch_size, epochs, lr, dr, num_unfreezed_layer)\n",
        "                        results.append(result)\n",
        "                        print('------------------------------------------------------------------------\\n')\n",
        "\n",
        "    # Sort models by accuracy\n",
        "    results.sort(key=lambda x: x[1], reverse=True)\n",
        "    print(\"\\nModel Performance Ranking:\")\n",
        "    for rank, (model_name, accuracy, _) in enumerate(results, 1):\n",
        "        print(f\"{rank}. {model_name}: {accuracy:.4f}\")\n",
        "\n",
        "    return results"
      ]
    },
    {
      "cell_type": "code",
      "execution_count": 8,
      "metadata": {
        "id": "rrOJ7-6epTO3"
      },
      "outputs": [],
      "source": [
        "# image_urls = get_image_urls()\n",
        "# X, y = load_images(image_urls)"
      ]
    },
    {
      "cell_type": "markdown",
      "source": [
        "### 4.3 Set Hyper-parameter"
      ],
      "metadata": {
        "id": "OwwQZAAiRlKa"
      }
    },
    {
      "cell_type": "code",
      "source": [
        "num_unfreezed_layers = [0]\n",
        "learning_rates = [0.0001]\n",
        "dropout_rates = [0.2]\n",
        "batch_sizes = [8]"
      ],
      "metadata": {
        "id": "f33W2VbrQjkr"
      },
      "execution_count": 9,
      "outputs": []
    },
    {
      "cell_type": "markdown",
      "source": [
        "### 4.4 Train all models and parameters"
      ],
      "metadata": {
        "id": "Ahnvvdu-Safq"
      }
    },
    {
      "cell_type": "code",
      "source": [
        "best_model = compare_models(\n",
        "    X = X,\n",
        "    y = y,\n",
        "    epochs = 5,\n",
        "\n",
        "    ############## Hyper-parameter ##############\n",
        "    learning_rates = learning_rates,\n",
        "    dropout_rates = dropout_rates,\n",
        "    batch_sizes = batch_sizes,\n",
        "    num_unfreezed_layers = num_unfreezed_layers\n",
        ")"
      ],
      "metadata": {
        "colab": {
          "base_uri": "https://localhost:8080/"
        },
        "id": "aP6gUIceJRCZ",
        "outputId": "3d168e6b-6cb7-474d-f4b5-654d58b07d42"
      },
      "execution_count": null,
      "outputs": [
        {
          "output_type": "stream",
          "name": "stdout",
          "text": [
            "*** Training ResNet50 ***\n",
            "- Batch Size: 8\n",
            "- LR: 0.0001\n",
            "- Dropout: 0.2\n",
            "- Last \"0\" layers unfreezed\n",
            "\n",
            "Epoch 1/5\n",
            "\u001b[1m61/61\u001b[0m \u001b[32m━━━━━━━━━━━━━━━━━━━━\u001b[0m\u001b[37m\u001b[0m \u001b[1m0s\u001b[0m 149ms/step - accuracy: 0.2970 - loss: 1.1833\n",
            "Epoch 1: val_accuracy improved from -inf to 0.39669, saving model to best_ResNet50.keras\n",
            "\u001b[1m61/61\u001b[0m \u001b[32m━━━━━━━━━━━━━━━━━━━━\u001b[0m\u001b[37m\u001b[0m \u001b[1m44s\u001b[0m 547ms/step - accuracy: 0.2973 - loss: 1.1829 - val_accuracy: 0.3967 - val_loss: 1.0915\n",
            "Epoch 2/5\n",
            "\u001b[1m61/61\u001b[0m \u001b[32m━━━━━━━━━━━━━━━━━━━━\u001b[0m\u001b[37m\u001b[0m \u001b[1m0s\u001b[0m 117ms/step - accuracy: 0.3739 - loss: 1.1123\n",
            "Epoch 2: val_accuracy did not improve from 0.39669\n",
            "\u001b[1m61/61\u001b[0m \u001b[32m━━━━━━━━━━━━━━━━━━━━\u001b[0m\u001b[37m\u001b[0m \u001b[1m12s\u001b[0m 124ms/step - accuracy: 0.3738 - loss: 1.1126 - val_accuracy: 0.3471 - val_loss: 1.0889\n",
            "Epoch 3/5\n",
            "\u001b[1m61/61\u001b[0m \u001b[32m━━━━━━━━━━━━━━━━━━━━\u001b[0m\u001b[37m\u001b[0m \u001b[1m0s\u001b[0m 91ms/step - accuracy: 0.2845 - loss: 1.1514\n",
            "Epoch 3: val_accuracy did not improve from 0.39669\n",
            "\u001b[1m61/61\u001b[0m \u001b[32m━━━━━━━━━━━━━━━━━━━━\u001b[0m\u001b[37m\u001b[0m \u001b[1m6s\u001b[0m 102ms/step - accuracy: 0.2849 - loss: 1.1515 - val_accuracy: 0.3223 - val_loss: 1.1002\n",
            "Epoch 4/5\n",
            "\u001b[1m61/61\u001b[0m \u001b[32m━━━━━━━━━━━━━━━━━━━━\u001b[0m\u001b[37m\u001b[0m \u001b[1m0s\u001b[0m 108ms/step - accuracy: 0.3010 - loss: 1.1630\n",
            "Epoch 4: val_accuracy did not improve from 0.39669\n",
            "\u001b[1m61/61\u001b[0m \u001b[32m━━━━━━━━━━━━━━━━━━━━\u001b[0m\u001b[37m\u001b[0m \u001b[1m7s\u001b[0m 117ms/step - accuracy: 0.3013 - loss: 1.1626 - val_accuracy: 0.3554 - val_loss: 1.0998\n",
            "Epoch 5/5\n",
            "\u001b[1m61/61\u001b[0m \u001b[32m━━━━━━━━━━━━━━━━━━━━\u001b[0m\u001b[37m\u001b[0m \u001b[1m0s\u001b[0m 89ms/step - accuracy: 0.4057 - loss: 1.1185\n",
            "Epoch 5: val_accuracy did not improve from 0.39669\n",
            "\u001b[1m61/61\u001b[0m \u001b[32m━━━━━━━━━━━━━━━━━━━━\u001b[0m\u001b[37m\u001b[0m \u001b[1m6s\u001b[0m 95ms/step - accuracy: 0.4055 - loss: 1.1185 - val_accuracy: 0.3554 - val_loss: 1.0886\n",
            "\u001b[1m4/4\u001b[0m \u001b[32m━━━━━━━━━━━━━━━━━━━━\u001b[0m\u001b[37m\u001b[0m \u001b[1m8s\u001b[0m 585ms/step - accuracy: 0.4191 - loss: 1.0874\n",
            "\n",
            "ResNet50 Test Accuracy: 0.3967\n",
            "------------------------------------------------------------------------\n",
            "\n",
            "*** Training EfficientNetB3 ***\n",
            "- Batch Size: 8\n",
            "- LR: 0.0001\n",
            "- Dropout: 0.2\n",
            "- Last \"0\" layers unfreezed\n",
            "\n",
            "Epoch 1/5\n",
            "\u001b[1m61/61\u001b[0m \u001b[32m━━━━━━━━━━━━━━━━━━━━\u001b[0m\u001b[37m\u001b[0m \u001b[1m0s\u001b[0m 394ms/step - accuracy: 0.3239 - loss: 1.1414\n",
            "Epoch 1: val_accuracy improved from -inf to 0.35537, saving model to best_EfficientNetB3.keras\n",
            "\u001b[1m61/61\u001b[0m \u001b[32m━━━━━━━━━━━━━━━━━━━━\u001b[0m\u001b[37m\u001b[0m \u001b[1m81s\u001b[0m 677ms/step - accuracy: 0.3238 - loss: 1.1413 - val_accuracy: 0.3554 - val_loss: 1.1030\n",
            "Epoch 2/5\n",
            "\u001b[1m61/61\u001b[0m \u001b[32m━━━━━━━━━━━━━━━━━━━━\u001b[0m\u001b[37m\u001b[0m \u001b[1m0s\u001b[0m 90ms/step - accuracy: 0.2926 - loss: 1.1346\n",
            "Epoch 2: val_accuracy did not improve from 0.35537\n",
            "\u001b[1m61/61\u001b[0m \u001b[32m━━━━━━━━━━━━━━━━━━━━\u001b[0m\u001b[37m\u001b[0m \u001b[1m6s\u001b[0m 101ms/step - accuracy: 0.2931 - loss: 1.1345 - val_accuracy: 0.3140 - val_loss: 1.1145\n",
            "Epoch 3/5\n",
            "\u001b[1m61/61\u001b[0m \u001b[32m━━━━━━━━━━━━━━━━━━━━\u001b[0m\u001b[37m\u001b[0m \u001b[1m0s\u001b[0m 109ms/step - accuracy: 0.3627 - loss: 1.0994\n",
            "Epoch 3: val_accuracy did not improve from 0.35537\n",
            "\u001b[1m61/61\u001b[0m \u001b[32m━━━━━━━━━━━━━━━━━━━━\u001b[0m\u001b[37m\u001b[0m \u001b[1m7s\u001b[0m 120ms/step - accuracy: 0.3626 - loss: 1.0995 - val_accuracy: 0.3554 - val_loss: 1.1090\n",
            "Epoch 4/5\n",
            "\u001b[1m61/61\u001b[0m \u001b[32m━━━━━━━━━━━━━━━━━━━━\u001b[0m\u001b[37m\u001b[0m \u001b[1m0s\u001b[0m 88ms/step - accuracy: 0.3401 - loss: 1.1194\n",
            "Epoch 4: val_accuracy did not improve from 0.35537\n",
            "\u001b[1m61/61\u001b[0m \u001b[32m━━━━━━━━━━━━━━━━━━━━\u001b[0m\u001b[37m\u001b[0m \u001b[1m6s\u001b[0m 94ms/step - accuracy: 0.3399 - loss: 1.1193 - val_accuracy: 0.3306 - val_loss: 1.1098\n",
            "Epoch 5/5\n",
            "\u001b[1m61/61\u001b[0m \u001b[32m━━━━━━━━━━━━━━━━━━━━\u001b[0m\u001b[37m\u001b[0m \u001b[1m0s\u001b[0m 115ms/step - accuracy: 0.3721 - loss: 1.0915\n",
            "Epoch 5: val_accuracy did not improve from 0.35537\n",
            "\u001b[1m61/61\u001b[0m \u001b[32m━━━━━━━━━━━━━━━━━━━━\u001b[0m\u001b[37m\u001b[0m \u001b[1m7s\u001b[0m 122ms/step - accuracy: 0.3719 - loss: 1.0916 - val_accuracy: 0.3554 - val_loss: 1.1096\n",
            "\u001b[1m4/4\u001b[0m \u001b[32m━━━━━━━━━━━━━━━━━━━━\u001b[0m\u001b[37m\u001b[0m \u001b[1m18s\u001b[0m 2s/step - accuracy: 0.3453 - loss: 1.1087\n",
            "\n",
            "EfficientNetB3 Test Accuracy: 0.3554\n",
            "------------------------------------------------------------------------\n",
            "\n",
            "*** Training DenseNet169 ***\n",
            "- Batch Size: 8\n",
            "- LR: 0.0001\n",
            "- Dropout: 0.2\n",
            "- Last \"0\" layers unfreezed\n",
            "\n",
            "Epoch 1/5\n",
            "\u001b[1m61/61\u001b[0m \u001b[32m━━━━━━━━━━━━━━━━━━━━\u001b[0m\u001b[37m\u001b[0m \u001b[1m0s\u001b[0m 314ms/step - accuracy: 0.3811 - loss: 1.1729"
          ]
        }
      ]
    },
    {
      "cell_type": "markdown",
      "source": [
        "# 5. Show result of a sample"
      ],
      "metadata": {
        "id": "lYXfZpDkND7F"
      }
    },
    {
      "cell_type": "code",
      "source": [
        "def compute_gradcam(model, img_array, layer_name):\n",
        "    \"\"\"\n",
        "    Computes Grad-CAM heatmap for a given image and model.\n",
        "\n",
        "    Parameters:\n",
        "    - model: Trained Keras model\n",
        "    - img_array: Preprocessed image array with shape (1, height, width, channels)\n",
        "    - layer_name: The name of the convolutional layer to extract gradients from\n",
        "\n",
        "    Returns:\n",
        "    - heatmap: Grad-CAM heatmap (numpy array)\n",
        "    \"\"\"\n",
        "    grad_model = Model(inputs=model.input, outputs=[model.get_layer(layer_name).output, model.output])\n",
        "\n",
        "    with tf.GradientTape() as tape:\n",
        "        conv_outputs, predictions = grad_model(img_array)\n",
        "        class_idx = tf.argmax(predictions[0])\n",
        "        loss = predictions[:, class_idx]\n",
        "\n",
        "    grads = tape.gradient(loss, conv_outputs)\n",
        "    pooled_grads = tf.reduce_mean(grads, axis=(0, 1, 2))\n",
        "    conv_outputs = conv_outputs[0]\n",
        "\n",
        "    for i in range(conv_outputs.shape[-1]):\n",
        "        conv_outputs[:, :, i] *= pooled_grads[i]\n",
        "\n",
        "    heatmap = np.mean(conv_outputs, axis=-1)\n",
        "    heatmap = np.maximum(heatmap, 0)  # ReLU\n",
        "    heatmap /= np.max(heatmap)  # Normalize\n",
        "    return heatmap\n",
        "\n",
        "def overlay_heatmap(img, heatmap, alpha=0.5):\n",
        "    \"\"\"\n",
        "    Overlays the Grad-CAM heatmap on the original image.\n",
        "\n",
        "    Parameters:\n",
        "    - img: Original image\n",
        "    - heatmap: Grad-CAM heatmap\n",
        "    - alpha: Transparency factor (default=0.5)\n",
        "\n",
        "    Returns:\n",
        "    - Superimposed image with heatmap\n",
        "    \"\"\"\n",
        "    heatmap = cv2.resize(heatmap, (img.shape[1], img.shape[0]))\n",
        "    heatmap = np.uint8(255 * heatmap)\n",
        "    heatmap = cv2.applyColorMap(heatmap, cv2.COLORMAP_JET)\n",
        "    superimposed_img = cv2.addWeighted(img, 1 - alpha, heatmap, alpha, 0)\n",
        "    return superimposed_img\n",
        "\n",
        "def show_prediction_with_gradcam(model, X, y, index, class_labels, layer_name=\"convnext_base_stage4_block2_layer_scale\"):\n",
        "    \"\"\"\n",
        "    Displays an image with the model's prediction, actual label, and Grad-CAM visualization.\n",
        "\n",
        "    Parameters:\n",
        "    - model: Trained Keras model\n",
        "    - X: NumPy array of images\n",
        "    - y: NumPy array of actual labels\n",
        "    - index: Index of the image to display\n",
        "    - class_labels: List of class names corresponding to label indices\n",
        "    - layer_name: Name of the convolutional layer to compute Grad-CAM from (default: last ConvNeXt block)\n",
        "    \"\"\"\n",
        "    sample_image = np.array(X[index])\n",
        "    sample_input = np.expand_dims(sample_image, axis=0)\n",
        "\n",
        "    # Predict\n",
        "    predictions = model.predict(sample_input)\n",
        "    predicted_class = np.argmax(predictions)\n",
        "    actual_class = y[index]\n",
        "\n",
        "    predicted_label = class_labels[predicted_class]\n",
        "    actual_label = class_labels[actual_class]\n",
        "\n",
        "    # Compute Grad-CAM\n",
        "    heatmap = compute_gradcam(model, sample_input, layer_name)\n",
        "    superimposed_img = overlay_heatmap((sample_image * 255).astype(np.uint8), heatmap)\n",
        "\n",
        "    # Display Results\n",
        "    fig, axes = plt.subplots(1, 2, figsize=(10, 5))\n",
        "\n",
        "    # Original Image\n",
        "    axes[0].imshow(sample_image)\n",
        "    axes[0].axis(\"off\")\n",
        "    axes[0].set_title(f\"Original Image\\nActual: {actual_label}\\nPredicted: {predicted_label}\", fontsize=12, color=\"blue\")\n",
        "\n",
        "    # Grad-CAM Overlay\n",
        "    axes[1].imshow(superimposed_img)\n",
        "    axes[1].axis(\"off\")\n",
        "    axes[1].set_title(\"Grad-CAM Visualization\", fontsize=12, color=\"red\")\n",
        "\n",
        "    plt.show()"
      ],
      "metadata": {
        "id": "3o018kM6J0F-"
      },
      "execution_count": 21,
      "outputs": []
    },
    {
      "cell_type": "code",
      "source": [
        "class_labels = [\"Airbus A320\", \"Airbus A350\", \"Boeing 787\"]\n",
        "# best_model = tf.keras.models.load_model(\"best_DenseNet169.h5\")"
      ],
      "metadata": {
        "colab": {
          "base_uri": "https://localhost:8080/",
          "height": 408
        },
        "id": "cmE4GLemLut0",
        "outputId": "58d1c55b-64b0-4c3c-e05a-060a0de81be6"
      },
      "execution_count": 25,
      "outputs": [
        {
          "output_type": "error",
          "ename": "FileNotFoundError",
          "evalue": "[Errno 2] Unable to synchronously open file (unable to open file: name = 'best_DenseNet169.h5', errno = 2, error message = 'No such file or directory', flags = 0, o_flags = 0)",
          "traceback": [
            "\u001b[0;31m---------------------------------------------------------------------------\u001b[0m",
            "\u001b[0;31mFileNotFoundError\u001b[0m                         Traceback (most recent call last)",
            "\u001b[0;32m<ipython-input-25-597daf44b03a>\u001b[0m in \u001b[0;36m<cell line: 0>\u001b[0;34m()\u001b[0m\n\u001b[1;32m      1\u001b[0m \u001b[0mclass_labels\u001b[0m \u001b[0;34m=\u001b[0m \u001b[0;34m[\u001b[0m\u001b[0;34m\"Airbus A320\"\u001b[0m\u001b[0;34m,\u001b[0m \u001b[0;34m\"Airbus A350\"\u001b[0m\u001b[0;34m,\u001b[0m \u001b[0;34m\"Boeing 787\"\u001b[0m\u001b[0;34m]\u001b[0m\u001b[0;34m\u001b[0m\u001b[0;34m\u001b[0m\u001b[0m\n\u001b[0;32m----> 2\u001b[0;31m \u001b[0mbest_model\u001b[0m \u001b[0;34m=\u001b[0m \u001b[0mtf\u001b[0m\u001b[0;34m.\u001b[0m\u001b[0mkeras\u001b[0m\u001b[0;34m.\u001b[0m\u001b[0mmodels\u001b[0m\u001b[0;34m.\u001b[0m\u001b[0mload_model\u001b[0m\u001b[0;34m(\u001b[0m\u001b[0;34m\"best_DenseNet169.h5\"\u001b[0m\u001b[0;34m)\u001b[0m\u001b[0;34m\u001b[0m\u001b[0;34m\u001b[0m\u001b[0m\n\u001b[0m",
            "\u001b[0;32m/usr/local/lib/python3.11/dist-packages/keras/src/saving/saving_api.py\u001b[0m in \u001b[0;36mload_model\u001b[0;34m(filepath, custom_objects, compile, safe_mode)\u001b[0m\n\u001b[1;32m    194\u001b[0m         )\n\u001b[1;32m    195\u001b[0m     \u001b[0;32mif\u001b[0m \u001b[0mstr\u001b[0m\u001b[0;34m(\u001b[0m\u001b[0mfilepath\u001b[0m\u001b[0;34m)\u001b[0m\u001b[0;34m.\u001b[0m\u001b[0mendswith\u001b[0m\u001b[0;34m(\u001b[0m\u001b[0;34m(\u001b[0m\u001b[0;34m\".h5\"\u001b[0m\u001b[0;34m,\u001b[0m \u001b[0;34m\".hdf5\"\u001b[0m\u001b[0;34m)\u001b[0m\u001b[0;34m)\u001b[0m\u001b[0;34m:\u001b[0m\u001b[0;34m\u001b[0m\u001b[0;34m\u001b[0m\u001b[0m\n\u001b[0;32m--> 196\u001b[0;31m         return legacy_h5_format.load_model_from_hdf5(\n\u001b[0m\u001b[1;32m    197\u001b[0m             \u001b[0mfilepath\u001b[0m\u001b[0;34m,\u001b[0m \u001b[0mcustom_objects\u001b[0m\u001b[0;34m=\u001b[0m\u001b[0mcustom_objects\u001b[0m\u001b[0;34m,\u001b[0m \u001b[0mcompile\u001b[0m\u001b[0;34m=\u001b[0m\u001b[0mcompile\u001b[0m\u001b[0;34m\u001b[0m\u001b[0;34m\u001b[0m\u001b[0m\n\u001b[1;32m    198\u001b[0m         )\n",
            "\u001b[0;32m/usr/local/lib/python3.11/dist-packages/keras/src/legacy/saving/legacy_h5_format.py\u001b[0m in \u001b[0;36mload_model_from_hdf5\u001b[0;34m(filepath, custom_objects, compile)\u001b[0m\n\u001b[1;32m    114\u001b[0m     \u001b[0mopened_new_file\u001b[0m \u001b[0;34m=\u001b[0m \u001b[0;32mnot\u001b[0m \u001b[0misinstance\u001b[0m\u001b[0;34m(\u001b[0m\u001b[0mfilepath\u001b[0m\u001b[0;34m,\u001b[0m \u001b[0mh5py\u001b[0m\u001b[0;34m.\u001b[0m\u001b[0mFile\u001b[0m\u001b[0;34m)\u001b[0m\u001b[0;34m\u001b[0m\u001b[0;34m\u001b[0m\u001b[0m\n\u001b[1;32m    115\u001b[0m     \u001b[0;32mif\u001b[0m \u001b[0mopened_new_file\u001b[0m\u001b[0;34m:\u001b[0m\u001b[0;34m\u001b[0m\u001b[0;34m\u001b[0m\u001b[0m\n\u001b[0;32m--> 116\u001b[0;31m         \u001b[0mf\u001b[0m \u001b[0;34m=\u001b[0m \u001b[0mh5py\u001b[0m\u001b[0;34m.\u001b[0m\u001b[0mFile\u001b[0m\u001b[0;34m(\u001b[0m\u001b[0mfilepath\u001b[0m\u001b[0;34m,\u001b[0m \u001b[0mmode\u001b[0m\u001b[0;34m=\u001b[0m\u001b[0;34m\"r\"\u001b[0m\u001b[0;34m)\u001b[0m\u001b[0;34m\u001b[0m\u001b[0;34m\u001b[0m\u001b[0m\n\u001b[0m\u001b[1;32m    117\u001b[0m     \u001b[0;32melse\u001b[0m\u001b[0;34m:\u001b[0m\u001b[0;34m\u001b[0m\u001b[0;34m\u001b[0m\u001b[0m\n\u001b[1;32m    118\u001b[0m         \u001b[0mf\u001b[0m \u001b[0;34m=\u001b[0m \u001b[0mfilepath\u001b[0m\u001b[0;34m\u001b[0m\u001b[0;34m\u001b[0m\u001b[0m\n",
            "\u001b[0;32m/usr/local/lib/python3.11/dist-packages/h5py/_hl/files.py\u001b[0m in \u001b[0;36m__init__\u001b[0;34m(self, name, mode, driver, libver, userblock_size, swmr, rdcc_nslots, rdcc_nbytes, rdcc_w0, track_order, fs_strategy, fs_persist, fs_threshold, fs_page_size, page_buf_size, min_meta_keep, min_raw_keep, locking, alignment_threshold, alignment_interval, meta_block_size, **kwds)\u001b[0m\n\u001b[1;32m    559\u001b[0m                                  \u001b[0mfs_persist\u001b[0m\u001b[0;34m=\u001b[0m\u001b[0mfs_persist\u001b[0m\u001b[0;34m,\u001b[0m \u001b[0mfs_threshold\u001b[0m\u001b[0;34m=\u001b[0m\u001b[0mfs_threshold\u001b[0m\u001b[0;34m,\u001b[0m\u001b[0;34m\u001b[0m\u001b[0;34m\u001b[0m\u001b[0m\n\u001b[1;32m    560\u001b[0m                                  fs_page_size=fs_page_size)\n\u001b[0;32m--> 561\u001b[0;31m                 \u001b[0mfid\u001b[0m \u001b[0;34m=\u001b[0m \u001b[0mmake_fid\u001b[0m\u001b[0;34m(\u001b[0m\u001b[0mname\u001b[0m\u001b[0;34m,\u001b[0m \u001b[0mmode\u001b[0m\u001b[0;34m,\u001b[0m \u001b[0muserblock_size\u001b[0m\u001b[0;34m,\u001b[0m \u001b[0mfapl\u001b[0m\u001b[0;34m,\u001b[0m \u001b[0mfcpl\u001b[0m\u001b[0;34m,\u001b[0m \u001b[0mswmr\u001b[0m\u001b[0;34m=\u001b[0m\u001b[0mswmr\u001b[0m\u001b[0;34m)\u001b[0m\u001b[0;34m\u001b[0m\u001b[0;34m\u001b[0m\u001b[0m\n\u001b[0m\u001b[1;32m    562\u001b[0m \u001b[0;34m\u001b[0m\u001b[0m\n\u001b[1;32m    563\u001b[0m             \u001b[0;32mif\u001b[0m \u001b[0misinstance\u001b[0m\u001b[0;34m(\u001b[0m\u001b[0mlibver\u001b[0m\u001b[0;34m,\u001b[0m \u001b[0mtuple\u001b[0m\u001b[0;34m)\u001b[0m\u001b[0;34m:\u001b[0m\u001b[0;34m\u001b[0m\u001b[0;34m\u001b[0m\u001b[0m\n",
            "\u001b[0;32m/usr/local/lib/python3.11/dist-packages/h5py/_hl/files.py\u001b[0m in \u001b[0;36mmake_fid\u001b[0;34m(name, mode, userblock_size, fapl, fcpl, swmr)\u001b[0m\n\u001b[1;32m    233\u001b[0m         \u001b[0;32mif\u001b[0m \u001b[0mswmr\u001b[0m \u001b[0;32mand\u001b[0m \u001b[0mswmr_support\u001b[0m\u001b[0;34m:\u001b[0m\u001b[0;34m\u001b[0m\u001b[0;34m\u001b[0m\u001b[0m\n\u001b[1;32m    234\u001b[0m             \u001b[0mflags\u001b[0m \u001b[0;34m|=\u001b[0m \u001b[0mh5f\u001b[0m\u001b[0;34m.\u001b[0m\u001b[0mACC_SWMR_READ\u001b[0m\u001b[0;34m\u001b[0m\u001b[0;34m\u001b[0m\u001b[0m\n\u001b[0;32m--> 235\u001b[0;31m         \u001b[0mfid\u001b[0m \u001b[0;34m=\u001b[0m \u001b[0mh5f\u001b[0m\u001b[0;34m.\u001b[0m\u001b[0mopen\u001b[0m\u001b[0;34m(\u001b[0m\u001b[0mname\u001b[0m\u001b[0;34m,\u001b[0m \u001b[0mflags\u001b[0m\u001b[0;34m,\u001b[0m \u001b[0mfapl\u001b[0m\u001b[0;34m=\u001b[0m\u001b[0mfapl\u001b[0m\u001b[0;34m)\u001b[0m\u001b[0;34m\u001b[0m\u001b[0;34m\u001b[0m\u001b[0m\n\u001b[0m\u001b[1;32m    236\u001b[0m     \u001b[0;32melif\u001b[0m \u001b[0mmode\u001b[0m \u001b[0;34m==\u001b[0m \u001b[0;34m'r+'\u001b[0m\u001b[0;34m:\u001b[0m\u001b[0;34m\u001b[0m\u001b[0;34m\u001b[0m\u001b[0m\n\u001b[1;32m    237\u001b[0m         \u001b[0mfid\u001b[0m \u001b[0;34m=\u001b[0m \u001b[0mh5f\u001b[0m\u001b[0;34m.\u001b[0m\u001b[0mopen\u001b[0m\u001b[0;34m(\u001b[0m\u001b[0mname\u001b[0m\u001b[0;34m,\u001b[0m \u001b[0mh5f\u001b[0m\u001b[0;34m.\u001b[0m\u001b[0mACC_RDWR\u001b[0m\u001b[0;34m,\u001b[0m \u001b[0mfapl\u001b[0m\u001b[0;34m=\u001b[0m\u001b[0mfapl\u001b[0m\u001b[0;34m)\u001b[0m\u001b[0;34m\u001b[0m\u001b[0;34m\u001b[0m\u001b[0m\n",
            "\u001b[0;32mh5py/_objects.pyx\u001b[0m in \u001b[0;36mh5py._objects.with_phil.wrapper\u001b[0;34m()\u001b[0m\n",
            "\u001b[0;32mh5py/_objects.pyx\u001b[0m in \u001b[0;36mh5py._objects.with_phil.wrapper\u001b[0;34m()\u001b[0m\n",
            "\u001b[0;32mh5py/h5f.pyx\u001b[0m in \u001b[0;36mh5py.h5f.open\u001b[0;34m()\u001b[0m\n",
            "\u001b[0;31mFileNotFoundError\u001b[0m: [Errno 2] Unable to synchronously open file (unable to open file: name = 'best_DenseNet169.h5', errno = 2, error message = 'No such file or directory', flags = 0, o_flags = 0)"
          ]
        }
      ]
    },
    {
      "cell_type": "code",
      "source": [
        "for i in [0,10,402,405,500, 600]:\n",
        "    show_prediction(best_model, X, y, index=i, class_labels=class_labels)"
      ],
      "metadata": {
        "colab": {
          "base_uri": "https://localhost:8080/",
          "height": 280
        },
        "id": "SPUxEBgmbz8C",
        "outputId": "cbf80df2-bf9c-4d17-c52a-eff02cde5d12"
      },
      "execution_count": 23,
      "outputs": [
        {
          "output_type": "error",
          "ename": "AttributeError",
          "evalue": "'list' object has no attribute 'predict'",
          "traceback": [
            "\u001b[0;31m---------------------------------------------------------------------------\u001b[0m",
            "\u001b[0;31mAttributeError\u001b[0m                            Traceback (most recent call last)",
            "\u001b[0;32m<ipython-input-23-05c91130c4e7>\u001b[0m in \u001b[0;36m<cell line: 0>\u001b[0;34m()\u001b[0m\n\u001b[1;32m      1\u001b[0m \u001b[0;32mfor\u001b[0m \u001b[0mi\u001b[0m \u001b[0;32min\u001b[0m \u001b[0;34m[\u001b[0m\u001b[0;36m0\u001b[0m\u001b[0;34m,\u001b[0m\u001b[0;36m10\u001b[0m\u001b[0;34m,\u001b[0m\u001b[0;36m402\u001b[0m\u001b[0;34m,\u001b[0m\u001b[0;36m405\u001b[0m\u001b[0;34m,\u001b[0m\u001b[0;36m500\u001b[0m\u001b[0;34m,\u001b[0m \u001b[0;36m600\u001b[0m\u001b[0;34m]\u001b[0m\u001b[0;34m:\u001b[0m\u001b[0;34m\u001b[0m\u001b[0;34m\u001b[0m\u001b[0m\n\u001b[0;32m----> 2\u001b[0;31m     \u001b[0mshow_prediction\u001b[0m\u001b[0;34m(\u001b[0m\u001b[0mbest_model\u001b[0m\u001b[0;34m,\u001b[0m \u001b[0mX\u001b[0m\u001b[0;34m,\u001b[0m \u001b[0my\u001b[0m\u001b[0;34m,\u001b[0m \u001b[0mindex\u001b[0m\u001b[0;34m=\u001b[0m\u001b[0mi\u001b[0m\u001b[0;34m,\u001b[0m \u001b[0mclass_labels\u001b[0m\u001b[0;34m=\u001b[0m\u001b[0mclass_labels\u001b[0m\u001b[0;34m)\u001b[0m\u001b[0;34m\u001b[0m\u001b[0;34m\u001b[0m\u001b[0m\n\u001b[0m",
            "\u001b[0;32m<ipython-input-21-d18a2b6069c8>\u001b[0m in \u001b[0;36mshow_prediction\u001b[0;34m(model, X, y, index, class_labels)\u001b[0m\n\u001b[1;32m     13\u001b[0m     \u001b[0msample_input\u001b[0m \u001b[0;34m=\u001b[0m \u001b[0mnp\u001b[0m\u001b[0;34m.\u001b[0m\u001b[0mexpand_dims\u001b[0m\u001b[0;34m(\u001b[0m\u001b[0msample_image\u001b[0m\u001b[0;34m,\u001b[0m \u001b[0maxis\u001b[0m\u001b[0;34m=\u001b[0m\u001b[0;36m0\u001b[0m\u001b[0;34m)\u001b[0m\u001b[0;34m\u001b[0m\u001b[0;34m\u001b[0m\u001b[0m\n\u001b[1;32m     14\u001b[0m \u001b[0;34m\u001b[0m\u001b[0m\n\u001b[0;32m---> 15\u001b[0;31m     \u001b[0mpredicted_class\u001b[0m \u001b[0;34m=\u001b[0m \u001b[0mnp\u001b[0m\u001b[0;34m.\u001b[0m\u001b[0margmax\u001b[0m\u001b[0;34m(\u001b[0m\u001b[0mmodel\u001b[0m\u001b[0;34m.\u001b[0m\u001b[0mpredict\u001b[0m\u001b[0;34m(\u001b[0m\u001b[0msample_input\u001b[0m\u001b[0;34m)\u001b[0m\u001b[0;34m)\u001b[0m\u001b[0;34m\u001b[0m\u001b[0;34m\u001b[0m\u001b[0m\n\u001b[0m\u001b[1;32m     16\u001b[0m     \u001b[0mactual_class\u001b[0m \u001b[0;34m=\u001b[0m \u001b[0my\u001b[0m\u001b[0;34m[\u001b[0m\u001b[0mindex\u001b[0m\u001b[0;34m]\u001b[0m\u001b[0;34m\u001b[0m\u001b[0;34m\u001b[0m\u001b[0m\n\u001b[1;32m     17\u001b[0m \u001b[0;34m\u001b[0m\u001b[0m\n",
            "\u001b[0;31mAttributeError\u001b[0m: 'list' object has no attribute 'predict'"
          ]
        }
      ]
    },
    {
      "cell_type": "code",
      "source": [
        "best_model"
      ],
      "metadata": {
        "id": "hbGq6N81MqyS",
        "colab": {
          "base_uri": "https://localhost:8080/"
        },
        "outputId": "bc6a63c2-6c67-40ac-e4b6-815d422072f6"
      },
      "execution_count": 24,
      "outputs": [
        {
          "output_type": "execute_result",
          "data": {
            "text/plain": [
              "[('DenseNet169',\n",
              "  0.6363636255264282,\n",
              "  <keras.src.callbacks.history.History at 0x78474e749150>),\n",
              " ('Xception',\n",
              "  0.4958677589893341,\n",
              "  <keras.src.callbacks.history.History at 0x784605569ed0>),\n",
              " ('ConvNeXtBase',\n",
              "  0.4628099203109741,\n",
              "  <keras.src.callbacks.history.History at 0x78460436d1d0>),\n",
              " ('ResNet50',\n",
              "  0.40495866537094116,\n",
              "  <keras.src.callbacks.history.History at 0x7847c8233890>),\n",
              " ('EfficientNetB3',\n",
              "  0.35537189245224,\n",
              "  <keras.src.callbacks.history.History at 0x7847b41251d0>)]"
            ]
          },
          "metadata": {},
          "execution_count": 24
        }
      ]
    },
    {
      "cell_type": "code",
      "source": [],
      "metadata": {
        "id": "C2DOHpadkzV_"
      },
      "execution_count": null,
      "outputs": []
    }
  ],
  "metadata": {
    "kernelspec": {
      "display_name": "Python 3",
      "name": "python3"
    },
    "language_info": {
      "codemirror_mode": {
        "name": "ipython",
        "version": 3
      },
      "file_extension": ".py",
      "mimetype": "text/x-python",
      "name": "python",
      "nbconvert_exporter": "python",
      "pygments_lexer": "ipython3",
      "version": "3.9.12"
    },
    "colab": {
      "provenance": [],
      "gpuType": "T4"
    },
    "accelerator": "GPU"
  },
  "nbformat": 4,
  "nbformat_minor": 0
}